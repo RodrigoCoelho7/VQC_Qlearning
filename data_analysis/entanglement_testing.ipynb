{
 "cells": [
  {
   "cell_type": "code",
   "execution_count": 1,
   "metadata": {},
   "outputs": [],
   "source": [
    "import pennylane as qml\n",
    "from pennylane import numpy as np\n",
    "import matplotlib.pyplot as plt\n",
    "from analysis_functions import Analysis\n",
    "import sys\n",
    "sys.path.append(\"../\")\n",
    "from vqc.vqc_circuits import UQC"
   ]
  },
  {
   "attachments": {},
   "cell_type": "markdown",
   "metadata": {},
   "source": [
    "First thing I need to do is to be able to create the circuit with the correct weights in pennylane"
   ]
  },
  {
   "cell_type": "code",
   "execution_count": 2,
   "metadata": {},
   "outputs": [],
   "source": [
    "uqc_2qubits_path = \"../../results/uqc_entanglement/2_qubit_uqc_cz\"\n",
    "uqc_4qubits_path = \"../../results/uqc_entanglement/4_qubit_uqc_cz\"\n",
    "\n",
    "uqc_2qubits = Analysis(uqc_2qubits_path)\n",
    "uqc_4qubits = Analysis(uqc_4qubits_path)"
   ]
  },
  {
   "attachments": {},
   "cell_type": "markdown",
   "metadata": {},
   "source": [
    "Let's try to use negativity to measure the entanglement of the variational quantum circuits"
   ]
  },
  {
   "cell_type": "code",
   "execution_count": 3,
   "metadata": {},
   "outputs": [],
   "source": [
    "num_qubits = 2\n",
    "num_layers = 5\n",
    "entangling_type = None\n",
    "vqc = UQC(num_qubits, num_layers, entangling_type)"
   ]
  },
  {
   "cell_type": "code",
   "execution_count": 4,
   "metadata": {},
   "outputs": [
    {
     "data": {
      "text/html": [
       "<pre style=\"overflow: auto; white-space: pre;\">(0, 0): ───Rz(x0_0)───Ry(theta0)───Rz(x1_0)───Ry(theta2)───Rz(x2_0)───Ry(theta4)───Rz(x3_0)───Ry(theta6)───Rz(x4_0)───Ry(theta8)───\n",
       "\n",
       "(0, 1): ───Rz(x0_1)───Ry(theta1)───Rz(x1_1)───Ry(theta3)───Rz(x2_1)───Ry(theta5)───Rz(x3_1)───Ry(theta7)───Rz(x4_1)───Ry(theta9)───</pre>"
      ],
      "text/plain": [
       "(0, 0): ───Rz(x0_0)───Ry(theta0)───Rz(x1_0)───Ry(theta2)───Rz(x2_0)───Ry(theta4)───Rz(x3_0)───Ry(theta6)───Rz(x4_0)───Ry(theta8)───\n",
       "\n",
       "(0, 1): ───Rz(x0_1)───Ry(theta1)───Rz(x1_1)───Ry(theta3)───Rz(x2_1)───Ry(theta5)───Rz(x3_1)───Ry(theta7)───Rz(x4_1)───Ry(theta9)───"
      ]
     },
     "execution_count": 4,
     "metadata": {},
     "output_type": "execute_result"
    }
   ],
   "source": [
    "vqc.circuit"
   ]
  },
  {
   "cell_type": "code",
   "execution_count": 5,
   "metadata": {},
   "outputs": [
    {
     "data": {
      "text/plain": [
       "[array([[0.22377096, 2.4907498 , 0.7647595 , 0.11703885, 2.49186   ,\n",
       "         0.5816616 , 2.6380851 , 0.5808931 , 0.5977255 , 0.10605836]],\n",
       "       dtype=float32),\n",
       " array([[[-2.3252773 , -0.45936522, -0.05628812,  0.7296369 ],\n",
       "         [ 0.17676501,  0.06906239,  0.43049112,  1.820161  ]],\n",
       " \n",
       "        [[-0.7617193 , -0.52727914, -0.3803747 , -0.19308297],\n",
       "         [ 0.01132563,  0.26265895, -0.96870285, -0.8290429 ]],\n",
       " \n",
       "        [[-0.16651799,  0.11960864,  1.7842529 , -0.04611189],\n",
       "         [ 0.24644308, -0.7475598 , -1.0119281 , -0.12901615]],\n",
       " \n",
       "        [[-0.1548171 ,  0.08413836,  1.8281894 ,  0.6898526 ],\n",
       "         [-0.6059063 ,  0.6271617 , -1.2207141 ,  0.5451319 ]],\n",
       " \n",
       "        [[-0.10349423,  0.00413808,  1.0261043 , -0.00749924],\n",
       "         [-0.67405254,  0.7457811 , -0.15448521,  1.2762944 ]]],\n",
       "       dtype=float32),\n",
       " array([[-4.3867836e-03, -2.4723676e-01],\n",
       "        [-8.9729235e-02,  1.7556483e-01],\n",
       "        [ 1.7635074e-01, -3.1621188e-01],\n",
       "        [ 2.3235589e-04,  4.6824500e-01],\n",
       "        [ 2.6016593e-01, -3.0233470e-01]], dtype=float32),\n",
       " array([[240.56714]], dtype=float32)]"
      ]
     },
     "execution_count": 5,
     "metadata": {},
     "output_type": "execute_result"
    }
   ],
   "source": [
    "uqc_weights = uqc_2qubits.get_final_weights()\n",
    "uqc_weights[0]"
   ]
  },
  {
   "attachments": {},
   "cell_type": "markdown",
   "metadata": {},
   "source": [
    "We dont need the output scaling weights, so lets start by removing them"
   ]
  },
  {
   "cell_type": "code",
   "execution_count": 6,
   "metadata": {},
   "outputs": [],
   "source": [
    "uqc_weights = uqc_weights[0][:-1]"
   ]
  },
  {
   "attachments": {},
   "cell_type": "markdown",
   "metadata": {},
   "source": [
    "Let's put the weights in the correct shapes"
   ]
  },
  {
   "cell_type": "code",
   "execution_count": 7,
   "metadata": {},
   "outputs": [
    {
     "data": {
      "text/plain": [
       "array([[0.22377096, 2.4907498 , 0.7647595 , 0.11703885, 2.49186   ,\n",
       "        0.5816616 , 2.6380851 , 0.5808931 , 0.5977255 , 0.10605836]],\n",
       "      dtype=float32)"
      ]
     },
     "execution_count": 7,
     "metadata": {},
     "output_type": "execute_result"
    }
   ],
   "source": [
    "uqc_weights[0]"
   ]
  },
  {
   "cell_type": "code",
   "execution_count": 8,
   "metadata": {},
   "outputs": [
    {
     "data": {
      "text/plain": [
       "[array([[0.22377096, 2.4907498 ],\n",
       "        [0.7647595 , 0.11703885],\n",
       "        [2.49186   , 0.5816616 ],\n",
       "        [2.6380851 , 0.5808931 ],\n",
       "        [0.5977255 , 0.10605836]], dtype=float32),\n",
       " array([[[-2.3252773 , -0.45936522, -0.05628812,  0.7296369 ],\n",
       "         [ 0.17676501,  0.06906239,  0.43049112,  1.820161  ]],\n",
       " \n",
       "        [[-0.7617193 , -0.52727914, -0.3803747 , -0.19308297],\n",
       "         [ 0.01132563,  0.26265895, -0.96870285, -0.8290429 ]],\n",
       " \n",
       "        [[-0.16651799,  0.11960864,  1.7842529 , -0.04611189],\n",
       "         [ 0.24644308, -0.7475598 , -1.0119281 , -0.12901615]],\n",
       " \n",
       "        [[-0.1548171 ,  0.08413836,  1.8281894 ,  0.6898526 ],\n",
       "         [-0.6059063 ,  0.6271617 , -1.2207141 ,  0.5451319 ]],\n",
       " \n",
       "        [[-0.10349423,  0.00413808,  1.0261043 , -0.00749924],\n",
       "         [-0.67405254,  0.7457811 , -0.15448521,  1.2762944 ]]],\n",
       "       dtype=float32),\n",
       " array([[-4.3867836e-03, -2.4723676e-01],\n",
       "        [-8.9729235e-02,  1.7556483e-01],\n",
       "        [ 1.7635074e-01, -3.1621188e-01],\n",
       "        [ 2.3235589e-04,  4.6824500e-01],\n",
       "        [ 2.6016593e-01, -3.0233470e-01]], dtype=float32)]"
      ]
     },
     "execution_count": 8,
     "metadata": {},
     "output_type": "execute_result"
    }
   ],
   "source": [
    "uqc_weights[0] = uqc_weights[0].reshape(num_layers, num_qubits)\n",
    "uqc_weights"
   ]
  },
  {
   "cell_type": "code",
   "execution_count": 95,
   "metadata": {},
   "outputs": [
    {
     "name": "stdout",
     "output_type": "stream",
     "text": [
      "(1.0000000000000004+0j)\n",
      "(1.0000000000000009+0j)\n",
      "(1.7763568394002505e-15+0j)\n",
      "(4.6629367034256575e-15+0j)\n",
      "(-1.7763568394002505e-15+0j)\n"
     ]
    }
   ],
   "source": [
    "def uqc_layer(wires, data, rotational_weights, input_weights, bias_weights):\n",
    "        [qml.RZ(np.dot(2 * input_weights[i], data) + bias_weights[i] , wires[i]) for i in range(len(wires))]\n",
    "        [qml.RY(2 * rotational_weights[i], wires[i]) for i in range(len(wires))]\n",
    "\n",
    "\n",
    "def bell_state(params, num_qubits, num_layers, data, qubit_to_measure):\n",
    "    qml.Hadamard(wires=0)\n",
    "    qml.CNOT(wires=[0, 1])\n",
    "    return qml.density_matrix(qubit_to_measure)\n",
    "\n",
    "def ghz_state(params, num_qubits, num_layers, data, qubit_to_measure):\n",
    "    qml.Hadamard(wires=0)\n",
    "    qml.CNOT(wires=[0, 1])\n",
    "    qml.CNOT(wires=[1, 2])\n",
    "    qml.CNOT(wires=[2, 3])\n",
    "    qml.Hadamard(wires=0)\n",
    "    return qml.density_matrix(qubit_to_measure)\n",
    "\n",
    "def product_state(params, num_qubits, num_layers, data, qubit_to_measure):\n",
    "    qml.Hadamard(wires=0)\n",
    "    qml.Hadamard(wires=1)\n",
    "    return qml.density_matrix(qubit_to_measure)\n",
    "\n",
    "def product_state_entropy():\n",
    "    qml.Hadamard(wires=0)\n",
    "    qml.Hadamard(wires=1)\n",
    "    return qml.vn_entropy(wires=0)\n",
    "\n",
    "def uqc(params, num_qubits, num_layers, data, qubit_to_measure):\n",
    "        rotational_weights = params[0]\n",
    "        input_weights = params[1]\n",
    "        bias_weights = params[2]\n",
    "        for l in range(num_layers):\n",
    "            uqc_layer(range(num_qubits), data, rotational_weights[l], input_weights[l], bias_weights[l])\n",
    "        return qml.density_matrix(qubit_to_measure)\n",
    "\n",
    "def meyer_wallach(circuit,weights, num_qubits, num_layers, data):\n",
    "    entropy = 0\n",
    "    for j in range(num_qubits):\n",
    "        reduced_density_matrix = circuit(weights, num_qubits, num_layers, data, j)\n",
    "        trace = np.trace(np.matmul(reduced_density_matrix, reduced_density_matrix))\n",
    "        entropy += trace\n",
    "    entropy /= num_qubits\n",
    "    entropy = 1 - entropy\n",
    "    return 2*entropy\n",
    "\n",
    "\n",
    "dev = qml.device(\"default.qubit\", wires = num_qubits)\n",
    "dev_ghz = qml.device(\"default.qubit\", wires = 4)\n",
    "\n",
    "circuit = qml.QNode(uqc, dev)\n",
    "circuit_bell = qml.QNode(bell_state, dev)\n",
    "circuit_ghz = qml.QNode(ghz_state, dev_ghz)\n",
    "circuit_product = qml.QNode(product_state, dev)\n",
    "circuit_product_entropy = qml.QNode(product_state_entropy, dev)\n",
    "\n",
    "data = np.random.uniform(low = -0.4, high = 0.4, size = (4,))\n",
    "random_params = [np.random.uniform(low = 0, high = 2*np.pi, size = (num_layers, num_qubits)),\n",
    "                 np.random.uniform(low = 0, high = 2*np.pi, size = (num_layers, num_qubits, 4)),\n",
    "                 np.random.uniform(low = 0, high = 2*np.pi, size = (num_layers, num_qubits))]\n",
    "\n",
    "entropy_bell_state = meyer_wallach(circuit_bell, 0,2, 1, data)\n",
    "print(entropy_bell_state)\n",
    "\n",
    "entropy_ghz_state = meyer_wallach(circuit_ghz, 0,4, 1, data)\n",
    "print(entropy_ghz_state)\n",
    "\n",
    "entropy_product_state = meyer_wallach(circuit_product, 0,2, 1, data)\n",
    "print(entropy_product_state)\n",
    "\n",
    "entropy_uqc = meyer_wallach(circuit, uqc_weights, num_qubits, num_layers, data)\n",
    "print(entropy_uqc)\n",
    "\n",
    "entropy_random_uqc = meyer_wallach(circuit, random_params, num_qubits, num_layers, data)\n",
    "print(entropy_random_uqc)"
   ]
  },
  {
   "cell_type": "code",
   "execution_count": null,
   "metadata": {},
   "outputs": [],
   "source": []
  }
 ],
 "metadata": {
  "kernelspec": {
   "display_name": "pennylane",
   "language": "python",
   "name": "python3"
  },
  "language_info": {
   "codemirror_mode": {
    "name": "ipython",
    "version": 3
   },
   "file_extension": ".py",
   "mimetype": "text/x-python",
   "name": "python",
   "nbconvert_exporter": "python",
   "pygments_lexer": "ipython3",
   "version": "3.11.4"
  },
  "orig_nbformat": 4
 },
 "nbformat": 4,
 "nbformat_minor": 2
}
