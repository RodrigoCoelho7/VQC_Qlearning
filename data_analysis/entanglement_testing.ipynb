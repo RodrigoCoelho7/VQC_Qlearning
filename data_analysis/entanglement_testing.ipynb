{
 "cells": [
  {
   "cell_type": "code",
   "execution_count": 17,
   "metadata": {},
   "outputs": [],
   "source": [
    "import pennylane as qml\n",
    "from pennylane import numpy as np\n",
    "import matplotlib.pyplot as plt\n",
    "from analysis_functions import Analysis\n",
    "import sys\n",
    "sys.path.append(\"../\")\n",
    "from vqc.vqc_circuits import UQC"
   ]
  },
  {
   "attachments": {},
   "cell_type": "markdown",
   "metadata": {},
   "source": [
    "First thing I need to do is to be able to create the circuit with the correct weights in pennylane"
   ]
  },
  {
   "cell_type": "code",
   "execution_count": 18,
   "metadata": {},
   "outputs": [],
   "source": [
    "uqc_2qubits_path = \"../../results/uqc_entanglement/2_qubit_uqc_cz\"\n",
    "uqc_4qubits_path = \"../../results/uqc_entanglement/4_qubit_uqc_cz\"\n",
    "\n",
    "uqc_2qubits = Analysis(uqc_2qubits_path)\n",
    "uqc_4qubits = Analysis(uqc_4qubits_path)"
   ]
  },
  {
   "attachments": {},
   "cell_type": "markdown",
   "metadata": {},
   "source": [
    "Let's try to use negativity to measure the entanglement of the variational quantum circuits"
   ]
  },
  {
   "cell_type": "code",
   "execution_count": 40,
   "metadata": {},
   "outputs": [],
   "source": [
    "num_qubits = 2\n",
    "num_layers = 5\n",
    "entangling_type = \"CZ\"\n",
    "vqc = UQC(num_qubits, num_layers, entangling_type)"
   ]
  },
  {
   "cell_type": "code",
   "execution_count": 41,
   "metadata": {},
   "outputs": [
    {
     "data": {
      "text/html": [
       "<pre style=\"overflow: auto; white-space: pre;\">(0, 0): ───Rz(x0_0)───Ry(theta0)───@───Rz(x1_0)───Ry(theta2)───@───Rz(x2_0)───Ry(theta4)───@───Rz(x3_0)───Ry(theta6)───@───Rz(x4_0)───Ry(theta8)───\n",
       "                                   │                           │                           │                           │\n",
       "(0, 1): ───Rz(x0_1)───Ry(theta1)───@───Rz(x1_1)───Ry(theta3)───@───Rz(x2_1)───Ry(theta5)───@───Rz(x3_1)───Ry(theta7)───@───Rz(x4_1)───Ry(theta9)───</pre>"
      ],
      "text/plain": [
       "(0, 0): ───Rz(x0_0)───Ry(theta0)───@───Rz(x1_0)───Ry(theta2)───@───Rz(x2_0)───Ry(theta4)───@───Rz(x3_0)───Ry(theta6)───@───Rz(x4_0)───Ry(theta8)───\n",
       "                                   │                           │                           │                           │\n",
       "(0, 1): ───Rz(x0_1)───Ry(theta1)───@───Rz(x1_1)───Ry(theta3)───@───Rz(x2_1)───Ry(theta5)───@───Rz(x3_1)───Ry(theta7)───@───Rz(x4_1)───Ry(theta9)───"
      ]
     },
     "execution_count": 41,
     "metadata": {},
     "output_type": "execute_result"
    }
   ],
   "source": [
    "vqc.circuit"
   ]
  },
  {
   "cell_type": "code",
   "execution_count": 42,
   "metadata": {},
   "outputs": [
    {
     "data": {
      "text/plain": [
       "[array([[0.22377096, 2.4907498 , 0.7647595 , 0.11703885, 2.49186   ,\n",
       "         0.5816616 , 2.6380851 , 0.5808931 , 0.5977255 , 0.10605836]],\n",
       "       dtype=float32),\n",
       " array([[[-2.3252773 , -0.45936522, -0.05628812,  0.7296369 ],\n",
       "         [ 0.17676501,  0.06906239,  0.43049112,  1.820161  ]],\n",
       " \n",
       "        [[-0.7617193 , -0.52727914, -0.3803747 , -0.19308297],\n",
       "         [ 0.01132563,  0.26265895, -0.96870285, -0.8290429 ]],\n",
       " \n",
       "        [[-0.16651799,  0.11960864,  1.7842529 , -0.04611189],\n",
       "         [ 0.24644308, -0.7475598 , -1.0119281 , -0.12901615]],\n",
       " \n",
       "        [[-0.1548171 ,  0.08413836,  1.8281894 ,  0.6898526 ],\n",
       "         [-0.6059063 ,  0.6271617 , -1.2207141 ,  0.5451319 ]],\n",
       " \n",
       "        [[-0.10349423,  0.00413808,  1.0261043 , -0.00749924],\n",
       "         [-0.67405254,  0.7457811 , -0.15448521,  1.2762944 ]]],\n",
       "       dtype=float32),\n",
       " array([[-4.3867836e-03, -2.4723676e-01],\n",
       "        [-8.9729235e-02,  1.7556483e-01],\n",
       "        [ 1.7635074e-01, -3.1621188e-01],\n",
       "        [ 2.3235589e-04,  4.6824500e-01],\n",
       "        [ 2.6016593e-01, -3.0233470e-01]], dtype=float32),\n",
       " array([[240.56714]], dtype=float32)]"
      ]
     },
     "execution_count": 42,
     "metadata": {},
     "output_type": "execute_result"
    }
   ],
   "source": [
    "uqc_weights = uqc_2qubits.get_final_weights()\n",
    "uqc_weights[0]"
   ]
  },
  {
   "attachments": {},
   "cell_type": "markdown",
   "metadata": {},
   "source": [
    "We dont need the output scaling weights, so lets start by removing them"
   ]
  },
  {
   "cell_type": "code",
   "execution_count": 43,
   "metadata": {},
   "outputs": [],
   "source": [
    "uqc_weights = uqc_weights[0][:-1]"
   ]
  },
  {
   "attachments": {},
   "cell_type": "markdown",
   "metadata": {},
   "source": [
    "Let's put the weights in the correct shapes"
   ]
  },
  {
   "cell_type": "code",
   "execution_count": 44,
   "metadata": {},
   "outputs": [
    {
     "data": {
      "text/plain": [
       "array([[0.22377096, 2.4907498 , 0.7647595 , 0.11703885, 2.49186   ,\n",
       "        0.5816616 , 2.6380851 , 0.5808931 , 0.5977255 , 0.10605836]],\n",
       "      dtype=float32)"
      ]
     },
     "execution_count": 44,
     "metadata": {},
     "output_type": "execute_result"
    }
   ],
   "source": [
    "uqc_weights[0]"
   ]
  },
  {
   "cell_type": "code",
   "execution_count": 45,
   "metadata": {},
   "outputs": [
    {
     "data": {
      "text/plain": [
       "[array([[0.22377096, 2.4907498 ],\n",
       "        [0.7647595 , 0.11703885],\n",
       "        [2.49186   , 0.5816616 ],\n",
       "        [2.6380851 , 0.5808931 ],\n",
       "        [0.5977255 , 0.10605836]], dtype=float32),\n",
       " array([[[-2.3252773 , -0.45936522, -0.05628812,  0.7296369 ],\n",
       "         [ 0.17676501,  0.06906239,  0.43049112,  1.820161  ]],\n",
       " \n",
       "        [[-0.7617193 , -0.52727914, -0.3803747 , -0.19308297],\n",
       "         [ 0.01132563,  0.26265895, -0.96870285, -0.8290429 ]],\n",
       " \n",
       "        [[-0.16651799,  0.11960864,  1.7842529 , -0.04611189],\n",
       "         [ 0.24644308, -0.7475598 , -1.0119281 , -0.12901615]],\n",
       " \n",
       "        [[-0.1548171 ,  0.08413836,  1.8281894 ,  0.6898526 ],\n",
       "         [-0.6059063 ,  0.6271617 , -1.2207141 ,  0.5451319 ]],\n",
       " \n",
       "        [[-0.10349423,  0.00413808,  1.0261043 , -0.00749924],\n",
       "         [-0.67405254,  0.7457811 , -0.15448521,  1.2762944 ]]],\n",
       "       dtype=float32),\n",
       " array([[-4.3867836e-03, -2.4723676e-01],\n",
       "        [-8.9729235e-02,  1.7556483e-01],\n",
       "        [ 1.7635074e-01, -3.1621188e-01],\n",
       "        [ 2.3235589e-04,  4.6824500e-01],\n",
       "        [ 2.6016593e-01, -3.0233470e-01]], dtype=float32)]"
      ]
     },
     "execution_count": 45,
     "metadata": {},
     "output_type": "execute_result"
    }
   ],
   "source": [
    "uqc_weights[0] = uqc_weights[0].reshape(num_layers, num_qubits)\n",
    "uqc_weights"
   ]
  },
  {
   "cell_type": "code",
   "execution_count": 51,
   "metadata": {},
   "outputs": [
    {
     "ename": "AttributeError",
     "evalue": "'QNode' object has no attribute 'SVGCircuit'",
     "output_type": "error",
     "traceback": [
      "\u001b[0;31m---------------------------------------------------------------------------\u001b[0m",
      "\u001b[0;31mAttributeError\u001b[0m                            Traceback (most recent call last)",
      "Cell \u001b[0;32mIn[51], line 19\u001b[0m\n\u001b[1;32m     16\u001b[0m dev \u001b[39m=\u001b[39m qml\u001b[39m.\u001b[39mdevice(\u001b[39m\"\u001b[39m\u001b[39mdefault.qubit\u001b[39m\u001b[39m\"\u001b[39m, wires \u001b[39m=\u001b[39m num_qubits)\n\u001b[1;32m     18\u001b[0m circuit \u001b[39m=\u001b[39m qml\u001b[39m.\u001b[39mQNode(uqc, dev)\n\u001b[0;32m---> 19\u001b[0m \u001b[39mprint\u001b[39m(circuit\u001b[39m.\u001b[39;49mSVGCircuit())\n\u001b[1;32m     21\u001b[0m circuit(uqc_weights, num_qubits, num_layers, \u001b[39m2\u001b[39m)\n",
      "\u001b[0;31mAttributeError\u001b[0m: 'QNode' object has no attribute 'SVGCircuit'"
     ]
    }
   ],
   "source": [
    "def uqc_layer(wires, data, rotational_weights, input_weights, bias_weights):\n",
    "        [qml.RZ(np.dot(2 * input_weights[i], data) + bias_weights[i] , wires[i]) for i in range(len(wires))]\n",
    "        [qml.RY(2 * rotational_weights[i], wires[i]) for i in range(len(wires))]\n",
    "\n",
    "def uqc(params, num_qubits, num_layers, data):\n",
    "        rotational_weights = params[0]\n",
    "        input_weights = params[1]\n",
    "        bias_weights = params[2]\n",
    "        for l in range(num_layers):\n",
    "            uqc_layer(range(num_qubits), data, rotational_weights[l], input_weights[l], bias_weights[l])\n",
    "        if num_qubits == 2:\n",
    "            return qml.expval(qml.PauliZ(0))\n",
    "        elif num_qubits == 4:\n",
    "            return qml.expval(qml.PauliZ(0))\n",
    "        \n",
    "dev = qml.device(\"default.qubit\", wires = num_qubits)\n",
    "\n",
    "circuit = qml.QNode(uqc, dev)\n",
    "\n",
    "circuit(uqc_weights, num_qubits, num_layers, 2)"
   ]
  },
  {
   "cell_type": "code",
   "execution_count": null,
   "metadata": {},
   "outputs": [],
   "source": []
  },
  {
   "cell_type": "code",
   "execution_count": null,
   "metadata": {},
   "outputs": [],
   "source": []
  }
 ],
 "metadata": {
  "kernelspec": {
   "display_name": "pennylane",
   "language": "python",
   "name": "python3"
  },
  "language_info": {
   "codemirror_mode": {
    "name": "ipython",
    "version": 3
   },
   "file_extension": ".py",
   "mimetype": "text/x-python",
   "name": "python",
   "nbconvert_exporter": "python",
   "pygments_lexer": "ipython3",
   "version": "3.11.4"
  },
  "orig_nbformat": 4
 },
 "nbformat": 4,
 "nbformat_minor": 2
}
