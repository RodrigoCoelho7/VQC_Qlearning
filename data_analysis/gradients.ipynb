{
 "cells": [
  {
   "cell_type": "code",
   "execution_count": 16,
   "metadata": {},
   "outputs": [],
   "source": [
    "import numpy as np\n",
    "import matplotlib.pyplot as plt\n",
    "import pandas as pd\n",
    "import tensorflow as tf\n",
    "from analysis_functions import Analysis"
   ]
  },
  {
   "cell_type": "code",
   "execution_count": 17,
   "metadata": {},
   "outputs": [],
   "source": [
    "results_path = \"../../results/observables_uqc/uqc_2qubits_5layers_XX\"\n",
    "\n",
    "results = Analysis(results_path)"
   ]
  },
  {
   "cell_type": "code",
   "execution_count": 18,
   "metadata": {},
   "outputs": [],
   "source": [
    "def flatten_gradients(gradients):\n",
    "    for i in range(len(gradients)):\n",
    "        for j in range(len(gradients[i])):\n",
    "            gradients[i][j] = np.concatenate([lista.flatten() for lista in gradients[i][j]], axis = 0)\n"
   ]
  },
  {
   "cell_type": "code",
   "execution_count": 4,
   "metadata": {},
   "outputs": [
    {
     "name": "stdout",
     "output_type": "stream",
     "text": [
      "(5, 17447, 61)\n",
      "(5, 17447)\n",
      "(17447,)\n",
      "(17447,)\n"
     ]
    }
   ],
   "source": [
    "#gradients is a list of lists containing the gradients of each agent at every training step\n",
    "\n",
    "gradients = results.get_gradients()\n",
    "\n",
    "min_length = min([len(gradients[i]) for i in range(len(gradients))])\n",
    "\n",
    "gradients = [gradients[i][:min_length] for i in range(len(gradients))]\n",
    "\n",
    "flatten_gradients(gradients)\n",
    "\n",
    "gradients_array = np.array(gradients)\n",
    "print(gradients_array.shape)\n",
    "\n",
    "magnitudes_gradients = np.linalg.norm(gradients_array, axis = 2)\n",
    "print(magnitudes_gradients.shape)\n",
    "\n",
    "mean_magnitudes_gradients = np.mean(magnitudes_gradients, axis = 0)\n",
    "print(mean_magnitudes_gradients.shape)\n",
    "\n",
    "std_magnitudes_gradients = np.std(magnitudes_gradients, axis = 0)\n",
    "print(std_magnitudes_gradients.shape)\n",
    "\n",
    "max_parameters_gradient = np.max(gradients_array, axis = 2)\n",
    "max_parameters_gradient_index = np.argmax(gradients_array, axis = 2)\n",
    "\n",
    "min_parameters_gradient = np.min(gradients_array, axis = 2)\n",
    "min_parameters_gradient_index = np.argmin(gradients_array, axis = 2)"
   ]
  },
  {
   "attachments": {},
   "cell_type": "markdown",
   "metadata": {},
   "source": [
    "It would be very cool if I could see to what type of parameters the maximum gradients belong to. To do that, I need to know what type of quantum circuit I have, the number of qubits and layers to find out to which type each index corresponds to.\n",
    "\n",
    "For example, this data is for a UQC with 5 layers, 2 qubits and global skolik outscaling. Thus, the number of parameters is given by (4+1+1)*5*2 + 1 = 61 and the parameters are divided as follows:\n",
    "\n",
    " - First 10 parameters are the rotation parameters.\n",
    " - Next 40 parameters are the input encoding parameters.\n",
    " - Next 10 parameters are the biases.\n",
    " - Last parameter is the outscale parameter"
   ]
  },
  {
   "cell_type": "code",
   "execution_count": 15,
   "metadata": {},
   "outputs": [
    {
     "data": {
      "text/plain": [
       "([<matplotlib.axis.XTick at 0x7f82ccf418e0>,\n",
       "  <matplotlib.axis.XTick at 0x7f82ccf418b0>,\n",
       "  <matplotlib.axis.XTick at 0x7f82ccf413a0>,\n",
       "  <matplotlib.axis.XTick at 0x7f82cd642a60>],\n",
       " [Text(0, 0, 'Rotation'),\n",
       "  Text(1, 0, 'Input Encoding'),\n",
       "  Text(2, 0, 'Bias'),\n",
       "  Text(3, 0, 'Output Scaling')])"
      ]
     },
     "execution_count": 15,
     "metadata": {},
     "output_type": "execute_result"
    },
    {
     "data": {
      "image/png": "[encoded data removed]",
      "text/plain": [
       "<Figure size 640x480 with 1 Axes>"
      ]
     },
     "metadata": {},
     "output_type": "display_data"
    }
   ],
   "source": [
    "# Thus, if the index is between 0 and 9, the gradient is from the rotation parameters, if it is between 10 and 49, it is from the input encoding parameters,\n",
    "# if it is between 50 and 59 it is a bias and if it is 60 it is the output encoding parameter. I want to group the gradients by type of parameter the max_parameters_gradient_index\n",
    "\n",
    "\n",
    "def classify_gradient(list_of_indexes):\n",
    "    new_list = []\n",
    "    for i in range(len(list_of_indexes)):\n",
    "        if list_of_indexes[i] < 10:\n",
    "            new_list.append(0)\n",
    "        elif list_of_indexes[i] < 50:\n",
    "            new_list.append(1)\n",
    "        elif list_of_indexes[i] < 60:\n",
    "            new_list.append(2)\n",
    "        else:\n",
    "            new_list.append(3)\n",
    "    return new_list\n",
    "\n",
    "colors = [\"red\", \"blue\", \"green\", \"orange\", \"purple\"]\n",
    "labels = [f\"Agent {i+1}\" for i in range(5)]\n",
    "values = [classify_gradient(max_parameters_gradient_index[i]) for i in range(len(max_parameters_gradient_index))]\n",
    "\n",
    "plt.hist(values, edgecolor = \"black\", bins = [-0.5,0.5,1.5,2.5,3.5], density = True, color = colors, label = labels)\n",
    "plt.legend()\n",
    "\n",
    "plt.xticks([0, 1, 2, 3], [\"Rotation\", \"Input Encoding\", \"Bias\", \"Output Scaling\"])"
   ]
  }
 ],
 "metadata": {
  "kernelspec": {
   "display_name": "tf",
   "language": "python",
   "name": "python3"
  },
  "language_info": {
   "codemirror_mode": {
    "name": "ipython",
    "version": 3
   },
   "file_extension": ".py",
   "mimetype": "text/x-python",
   "name": "python",
   "nbconvert_exporter": "python",
   "pygments_lexer": "ipython3",
   "version": "3.9.16"
  },
  "orig_nbformat": 4
 },
 "nbformat": 4,
 "nbformat_minor": 2
}
