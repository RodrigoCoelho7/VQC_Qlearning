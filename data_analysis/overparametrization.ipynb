{
 "cells": [
  {
   "cell_type": "code",
   "execution_count": 3,
   "metadata": {},
   "outputs": [
    {
     "name": "stderr",
     "output_type": "stream",
     "text": [
      "2023-06-05 13:55:21.167008: W tensorflow/stream_executor/platform/default/dso_loader.cc:64] Could not load dynamic library 'libcudart.so.11.0'; dlerror: libcudart.so.11.0: cannot open shared object file: No such file or directory\n",
      "2023-06-05 13:55:21.167057: I tensorflow/stream_executor/cuda/cudart_stub.cc:29] Ignore above cudart dlerror if you do not have a GPU set up on your machine.\n"
     ]
    }
   ],
   "source": [
    "import numpy as np\n",
    "import tensorflow as tf\n",
    "from analysis_functions import Analysis"
   ]
  },
  {
   "cell_type": "code",
   "execution_count": 4,
   "metadata": {},
   "outputs": [],
   "source": [
    "uqc_2qubits_2layers_path = \"../../results/overparametrization/2_qubits_2layer\"\n",
    "skolik_path = \"../../results/overparametrization/skolik\"\n",
    "\n",
    "skolik = Analysis(skolik_path)\n",
    "uqc_2qubits_2layers = Analysis(uqc_2qubits_2layers_path)"
   ]
  },
  {
   "cell_type": "code",
   "execution_count": 5,
   "metadata": {},
   "outputs": [],
   "source": [
    "uqc_2qubits_2layers_weights = uqc_2qubits_2layers.get_final_weights()\n",
    "skolik_weights = skolik.get_final_weights()"
   ]
  },
  {
   "cell_type": "code",
   "execution_count": 8,
   "metadata": {},
   "outputs": [],
   "source": [
    "weights = uqc_2qubits_2layers_weights[0][:-1]"
   ]
  },
  {
   "cell_type": "code",
   "execution_count": 9,
   "metadata": {},
   "outputs": [
    {
     "data": {
      "text/plain": [
       "[array([[1.8468791 , 1.1475711 , 1.9329507 , 0.97739553]], dtype=float32),\n",
       " array([[[-1.0944426 ,  0.05319272,  0.0381873 , -0.44517463],\n",
       "         [-0.73402774, -0.05689103,  0.8435067 ,  0.374379  ]],\n",
       " \n",
       "        [[-0.01729522,  0.53940433, -0.13945937,  1.7733059 ],\n",
       "         [-0.07697394,  0.16660424,  0.21878794,  0.71627206]]],\n",
       "       dtype=float32),\n",
       " array([[ 0.04547372,  0.06625698],\n",
       "        [ 0.05631084, -0.09248722]], dtype=float32)]"
      ]
     },
     "execution_count": 9,
     "metadata": {},
     "output_type": "execute_result"
    }
   ],
   "source": [
    "weights"
   ]
  },
  {
   "cell_type": "code",
   "execution_count": 11,
   "metadata": {},
   "outputs": [],
   "source": [
    "combined_array = np.concatenate([lista.flatten() for lista in weights], axis=0)"
   ]
  },
  {
   "cell_type": "code",
   "execution_count": 110,
   "metadata": {},
   "outputs": [],
   "source": [
    "combined_array = np.concatenate((weights[0].flatten(), weights[1].flatten(), weights[2].flatten()), axis=0)"
   ]
  },
  {
   "cell_type": "code",
   "execution_count": 12,
   "metadata": {},
   "outputs": [
    {
     "data": {
      "text/plain": [
       "array([ 1.8468791 ,  1.1475711 ,  1.9329507 ,  0.97739553, -1.0944426 ,\n",
       "        0.05319272,  0.0381873 , -0.44517463, -0.73402774, -0.05689103,\n",
       "        0.8435067 ,  0.374379  , -0.01729522,  0.53940433, -0.13945937,\n",
       "        1.7733059 , -0.07697394,  0.16660424,  0.21878794,  0.71627206,\n",
       "        0.04547372,  0.06625698,  0.05631084, -0.09248722], dtype=float32)"
      ]
     },
     "execution_count": 12,
     "metadata": {},
     "output_type": "execute_result"
    }
   ],
   "source": [
    "combined_array"
   ]
  },
  {
   "cell_type": "code",
   "execution_count": null,
   "metadata": {},
   "outputs": [],
   "source": []
  }
 ],
 "metadata": {
  "kernelspec": {
   "display_name": "tf",
   "language": "python",
   "name": "python3"
  },
  "language_info": {
   "codemirror_mode": {
    "name": "ipython",
    "version": 3
   },
   "file_extension": ".py",
   "mimetype": "text/x-python",
   "name": "python",
   "nbconvert_exporter": "python",
   "pygments_lexer": "ipython3",
   "version": "3.9.16"
  },
  "orig_nbformat": 4
 },
 "nbformat": 4,
 "nbformat_minor": 2
}
