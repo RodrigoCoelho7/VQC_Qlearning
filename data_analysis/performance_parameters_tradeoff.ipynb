{
 "cells": [
  {
   "attachments": {},
   "cell_type": "markdown",
   "metadata": {},
   "source": [
    "# 1) Performance-Parameters Tradeoff"
   ]
  },
  {
   "cell_type": "code",
   "execution_count": 1,
   "metadata": {},
   "outputs": [],
   "source": [
    "import numpy as np\n",
    "import pandas as pd\n",
    "from analysis_functions import Analysis\n",
    "import matplotlib.pyplot as plt"
   ]
  },
  {
   "attachments": {},
   "cell_type": "markdown",
   "metadata": {},
   "source": [
    "In this notebook, we want to study the performance-parameters tradeoff of some different architectures for the CartPole Environment.\n",
    "\n",
    "In theory, we want the performance to be as high as possible, and the number of parameters to be as low as possible, since this will make the training faster due to the lower number of partial derivatives we need to compute. We will compare this tradeoff for the following architectures:\n",
    "\n",
    "- Skolik\n",
    "- UQC\n",
    "- Lockwood\n",
    "- Multi-Qubit UQC (2 and 4 qubits)\n",
    "\n",
    "But first, we will try to perform a hyperparameter search using optuna to find the optimal hyperparameters for each architecture."
   ]
  },
  {
   "attachments": {},
   "cell_type": "markdown",
   "metadata": {},
   "source": [
    "**IMPORTANT** - So far we have only performed the hyperparameters search for the single-qubit UQC architecture. I would also like to do it for the 2-qubit UQC and 4-qubit UQC to have a better comparison between the optimal hyperparameters for each possible architecture."
   ]
  },
  {
   "cell_type": "code",
   "execution_count": 4,
   "metadata": {},
   "outputs": [],
   "source": [
    "# Data for the single qubit UQC\n",
    "singlequbit_uqc_path = \"../../results/continuous/uqc/globalskolik_outscaling/XZ_obs/uqc_optuna_best_hyper\"\n",
    "\n",
    "#Data for the Skolik Architecture\n",
    "skolik_path = \"../../results/continuous/skolik_arch/schuld_datareup/localskolik_outscaling/ZZ_obs/skolik_optimal_hyper_mse\"\n",
    "\n",
    "#Data for the 2 qubit UQC Full Encoding\n",
    "uqc2qubit_fullencoding_path = \"../../results/continuous/uqc/globalskolik_outscaling/XZ_obs/multi_qubit_full_encoding_final/2qubits_3layers\"\n",
    "\n",
    "#Data for the 4 qubit UQC Full Encoding\n",
    "uqc4qubit_fullencoding_path = \"../../results/continuous/uqc/globalskolik_outscaling/XZ_obs/multi_qubit_full_encoding_final/4qubits_5layers\"\n",
    "\n",
    "#Data for the 2 qubit UQC Partial Encoding\n",
    "uqc2qubit_partialencoding_path = \"../../results/continuous/uqc/globalskolik_outscaling/XZ_obs/multi_qubit_final/2qubits_4layers\"\n",
    "\n",
    "#Data for the 4 qubit UQC Partial Encoding\n",
    "uqc4qubit_partialencoding_path = \"../../results/continuous/uqc/globalskolik_outscaling/XZ_obs/multi_qubit_final/4qubits_5layers\""
   ]
  },
  {
   "cell_type": "code",
   "execution_count": 5,
   "metadata": {},
   "outputs": [],
   "source": [
    "singlequbit_uqc_analysis = Analysis(singlequbit_uqc_path)\n",
    "skolik_analysis = Analysis(skolik_path)\n",
    "\n",
    "uqc2qubit_fullencoding_analysis = Analysis(uqc2qubit_fullencoding_path)\n",
    "uqc4qubit_fullencoding_analysis = Analysis(uqc4qubit_fullencoding_path)\n",
    "\n",
    "uqc2qubit_partialencoding_analysis = Analysis(uqc2qubit_partialencoding_path)\n",
    "uqc4qubit_partialencoding_analysis = Analysis(uqc4qubit_partialencoding_path)"
   ]
  },
  {
   "attachments": {},
   "cell_type": "markdown",
   "metadata": {},
   "source": [
    "Since I want to analyse the parameters-performance tradeoff, I first need to define a performance measure. In this scenario, I chose the area under the curve (AUC) of the return per episode averaged over the 10 agents. To normalize it between 0 and 1, the actual performance measure will be given by $AUC/maximum\\_performance\\_area$, where $maximum\\_performance\\_area = maximum\\_reward*number\\_of\\_episodes$."
   ]
  },
  {
   "cell_type": "code",
   "execution_count": 39,
   "metadata": {},
   "outputs": [],
   "source": [
    "def calculate_mean_return(results, number_of_episodes):\n",
    "    results = [r[:number_of_episodes] for r in results]\n",
    "    results_mean = np.mean(results, axis=0)\n",
    "    return results_mean"
   ]
  },
  {
   "cell_type": "code",
   "execution_count": 40,
   "metadata": {},
   "outputs": [],
   "source": [
    "def performance(results, maximum_reward, number_of_episodes):\n",
    "    results_mean = calculate_mean_return(results, number_of_episodes)\n",
    "    area_under_curve = np.trapz(results_mean)\n",
    "    maximum_performance_area = maximum_reward * number_of_episodes\n",
    "    performance = area_under_curve / maximum_performance_area\n",
    "    return performance"
   ]
  },
  {
   "attachments": {},
   "cell_type": "markdown",
   "metadata": {},
   "source": [
    "Since some of these models were only run for $1000$ episodes, that's the number of episodes I will use. Moreover, since the environment is \"CartPole-v0\", the maximum reward is $200$."
   ]
  },
  {
   "attachments": {},
   "cell_type": "markdown",
   "metadata": {},
   "source": [
    "Thus, I will now calculate the performance of each model."
   ]
  },
  {
   "cell_type": "code",
   "execution_count": 86,
   "metadata": {},
   "outputs": [],
   "source": [
    "single_qubit_uqc_return = singlequbit_uqc_analysis.get_rewards()\n",
    "# I have to filter out some returns of agents that lasted only 500 episodes\n",
    "single_qubit_uqc_return = [sublist for sublist in single_qubit_uqc_return if len(sublist) != 500]\n",
    "single_qubit_uqc_performance = performance(single_qubit_uqc_return, 200, 1000)\n",
    "\n",
    "skolik_return = skolik_analysis.get_rewards()\n",
    "skolik_performance = performance(skolik_return, 200, 1000)\n",
    "\n",
    "uqc2qubit_fullencoding_return = uqc2qubit_fullencoding_analysis.get_rewards()\n",
    "uqc2qubit_fullencoding_performance = performance(uqc2qubit_fullencoding_return, 200, 1000)\n",
    "\n",
    "uqc4qubit_fullencoding_return = uqc4qubit_fullencoding_analysis.get_rewards()\n",
    "uqc4qubit_fullencoding_performance = performance(uqc4qubit_fullencoding_return, 200, 1000)\n",
    "\n",
    "uqc2qubit_partialencoding_return = uqc2qubit_partialencoding_analysis.get_rewards()\n",
    "uqc2qubit_partialencoding_performance = performance(uqc2qubit_partialencoding_return, 200, 1000)\n",
    "\n",
    "uqc4qubit_partialencoding_return = uqc4qubit_partialencoding_analysis.get_rewards()\n",
    "uqc4qubit_partialencoding_performance = performance(uqc4qubit_partialencoding_return, 200, 1000)"
   ]
  },
  {
   "cell_type": "code",
   "execution_count": 87,
   "metadata": {},
   "outputs": [
    {
     "name": "stdout",
     "output_type": "stream",
     "text": [
      "Single Qubit UQC Performance:  0.9173405\n",
      "Skolik Performance:  0.90873725\n",
      "2 Qubit UQC Full Encoding Performance:  0.941598\n",
      "4 Qubit UQC Full Encoding Performance:  0.9082589999999999\n",
      "2 Qubit UQC Partial Encoding Performance:  0.9244979999999999\n",
      "4 Qubit UQC Partial Encoding Performance:  0.8993289999999999\n"
     ]
    }
   ],
   "source": [
    "print(\"Single Qubit UQC Performance: \", single_qubit_uqc_performance)\n",
    "print(\"Skolik Performance: \", skolik_performance)\n",
    "print(\"2 Qubit UQC Full Encoding Performance: \", uqc2qubit_fullencoding_performance)\n",
    "print(\"4 Qubit UQC Full Encoding Performance: \", uqc4qubit_fullencoding_performance)\n",
    "print(\"2 Qubit UQC Partial Encoding Performance: \", uqc2qubit_partialencoding_performance)\n",
    "print(\"4 Qubit UQC Partial Encoding Performance: \", uqc4qubit_partialencoding_performance)"
   ]
  },
  {
   "attachments": {},
   "cell_type": "markdown",
   "metadata": {},
   "source": [
    "Now that I have the performance of each agent defined, I want to know the number of parameters each of these models have and also the number of qubits, circuit depth and circuit measurements.\n",
    "\n",
    "First, let's get the number of parameters."
   ]
  },
  {
   "cell_type": "code",
   "execution_count": 116,
   "metadata": {},
   "outputs": [],
   "source": [
    "single_qubit_uqc_parameters = singlequbit_uqc_analysis.get_final_weights()\n",
    "single_qubit_uqc_parameters = single_qubit_uqc_parameters[0]\n",
    "\n",
    "skolik_parameters = skolik_analysis.get_final_weights()\n",
    "skolik_parameters = skolik_parameters[0]\n",
    "\n",
    "uqc2qubit_fullencoding_parameters = uqc2qubit_fullencoding_analysis.get_final_weights()\n",
    "uqc2qubit_fullencoding_parameters = uqc2qubit_fullencoding_parameters[0]\n",
    "uqc4qubit_fullencoding_parameters = uqc4qubit_fullencoding_analysis.get_final_weights()\n",
    "uqc4qubit_fullencoding_parameters = uqc4qubit_fullencoding_parameters[0]\n",
    "\n",
    "uqc2qubit_partialencoding_parameters = uqc2qubit_partialencoding_analysis.get_final_weights()\n",
    "uqc2qubit_partialencoding_parameters = uqc2qubit_partialencoding_parameters[0]\n",
    "uqc4qubit_partialencoding_parameters = uqc4qubit_partialencoding_analysis.get_final_weights()\n",
    "uqc4qubit_partialencoding_parameters = uqc4qubit_partialencoding_parameters[0]"
   ]
  },
  {
   "cell_type": "code",
   "execution_count": 117,
   "metadata": {},
   "outputs": [],
   "source": [
    "def get_size(arrays):\n",
    "    size = 0\n",
    "    for array in arrays:\n",
    "        size += array.size\n",
    "    return size"
   ]
  },
  {
   "cell_type": "code",
   "execution_count": 120,
   "metadata": {},
   "outputs": [],
   "source": [
    "single_qubit_uqc_parameters_size = get_size(single_qubit_uqc_parameters)\n",
    "\n",
    "skolik_parameters_size = get_size(skolik_parameters)\n",
    "\n",
    "uqc2qubit_fullencoding_parameters_size = get_size(uqc2qubit_fullencoding_parameters)\n",
    "uqc4qubit_fullencoding_parameters_size = get_size(uqc4qubit_fullencoding_parameters)\n",
    "\n",
    "uqc2qubit_partialencoding_parameters_size = get_size(uqc2qubit_partialencoding_parameters)\n",
    "uqc4qubit_partialencoding_parameters_size = get_size(uqc4qubit_partialencoding_parameters)"
   ]
  },
  {
   "cell_type": "code",
   "execution_count": 121,
   "metadata": {},
   "outputs": [
    {
     "name": "stdout",
     "output_type": "stream",
     "text": [
      "Single Qubit UQC Parameters Size:  32\n",
      "Skolik Parameters Size:  70\n",
      "2 Qubit UQC Full Encoding Parameters Size:  37\n",
      "4 Qubit UQC Full Encoding Parameters Size:  121\n",
      "2 Qubit UQC Partial Encoding Parameters Size:  49\n",
      "4 Qubit UQC Partial Encoding Parameters Size:  121\n"
     ]
    }
   ],
   "source": [
    "print(\"Single Qubit UQC Parameters Size: \", single_qubit_uqc_parameters_size)\n",
    "print(\"Skolik Parameters Size: \", skolik_parameters_size)\n",
    "print(\"2 Qubit UQC Full Encoding Parameters Size: \", uqc2qubit_fullencoding_parameters_size)\n",
    "print(\"4 Qubit UQC Full Encoding Parameters Size: \", uqc4qubit_fullencoding_parameters_size)\n",
    "print(\"2 Qubit UQC Partial Encoding Parameters Size: \", uqc2qubit_partialencoding_parameters_size)\n",
    "print(\"4 Qubit UQC Partial Encoding Parameters Size: \", uqc4qubit_partialencoding_parameters_size)\n"
   ]
  },
  {
   "attachments": {},
   "cell_type": "markdown",
   "metadata": {},
   "source": [
    "Some of the partial encoding models have more parameters because the number of layers is higher. It might be reasonable to always compare models with the same number of layers so that the comparison is fairer."
   ]
  },
  {
   "attachments": {},
   "cell_type": "markdown",
   "metadata": {},
   "source": [
    "Now, we will define how good a model is by how much performance was generated per parameter. This will be given by the performance divided by the number of parameters."
   ]
  },
  {
   "cell_type": "code",
   "execution_count": 126,
   "metadata": {},
   "outputs": [],
   "source": [
    "single_qubit_uqc_performance_per_parameter = single_qubit_uqc_performance / single_qubit_uqc_parameters_size * 100\n",
    "\n",
    "skolik_performance_per_parameter = skolik_performance / skolik_parameters_size * 100\n",
    "\n",
    "uqc2qubit_fullencoding_performance_per_parameter = uqc2qubit_fullencoding_performance / uqc2qubit_fullencoding_parameters_size * 100\n",
    "uqc4qubit_fullencoding_performance_per_parameter = uqc4qubit_fullencoding_performance / uqc4qubit_fullencoding_parameters_size * 100\n",
    "\n",
    "uqc2qubit_partialencoding_performance_per_parameter = uqc2qubit_partialencoding_performance / uqc2qubit_partialencoding_parameters_size * 100\n",
    "uqc4qubit_partialencoding_performance_per_parameter = uqc4qubit_partialencoding_performance / uqc4qubit_partialencoding_parameters_size * 100"
   ]
  },
  {
   "cell_type": "code",
   "execution_count": 127,
   "metadata": {},
   "outputs": [
    {
     "name": "stdout",
     "output_type": "stream",
     "text": [
      "Single Qubit UQC Performance per Parameter:  2.8666890625\n",
      "Skolik Performance per Parameter:  1.2981960714285714\n",
      "2 Qubit UQC Full Encoding Performance per Parameter:  2.5448594594594596\n",
      "4 Qubit UQC Full Encoding Performance per Parameter:  0.7506272727272727\n",
      "2 Qubit UQC Partial Encoding Performance per Parameter:  1.886730612244898\n",
      "4 Qubit UQC Partial Encoding Performance per Parameter:  0.7432471074380165\n"
     ]
    }
   ],
   "source": [
    "print(\"Single Qubit UQC Performance per Parameter: \", single_qubit_uqc_performance_per_parameter)\n",
    "print(\"Skolik Performance per Parameter: \", skolik_performance_per_parameter)\n",
    "print(\"2 Qubit UQC Full Encoding Performance per Parameter: \", uqc2qubit_fullencoding_performance_per_parameter)\n",
    "print(\"4 Qubit UQC Full Encoding Performance per Parameter: \", uqc4qubit_fullencoding_performance_per_parameter)\n",
    "print(\"2 Qubit UQC Partial Encoding Performance per Parameter: \", uqc2qubit_partialencoding_performance_per_parameter)\n",
    "print(\"4 Qubit UQC Partial Encoding Performance per Parameter: \", uqc4qubit_partialencoding_performance_per_parameter)"
   ]
  },
  {
   "attachments": {},
   "cell_type": "markdown",
   "metadata": {},
   "source": [
    "In terms of the performance-parameters tradeoff, it seems like the single-qubit UQC is the best model, since each parameter generates 2.86% of the normalized area under the curve. However, the single-qubit UQC needs to be measured twice because the observables are applied on the same qubit. So, in terms of circuit measurements:"
   ]
  },
  {
   "cell_type": "code",
   "execution_count": null,
   "metadata": {},
   "outputs": [],
   "source": [
    "print(\"Single Qubit UQC Measurements: \", 2)\n",
    "print(\"Skolik Measurements: \", 1)\n",
    "print(\"2 Qubit UQC Full Encoding Measurements: \", 1)\n",
    "print(\"4 Qubit UQC Full Encoding Measurements: \", 1)\n",
    "print(\"2 Qubit UQC Partial Encoding Measurements: \", 1)\n",
    "print(\"4 Qubit UQC Partial Encoding Measurements: \", 1)"
   ]
  }
 ],
 "metadata": {
  "kernelspec": {
   "display_name": "tf",
   "language": "python",
   "name": "python3"
  },
  "language_info": {
   "codemirror_mode": {
    "name": "ipython",
    "version": 3
   },
   "file_extension": ".py",
   "mimetype": "text/x-python",
   "name": "python",
   "nbconvert_exporter": "python",
   "pygments_lexer": "ipython3",
   "version": "3.9.15"
  },
  "orig_nbformat": 4
 },
 "nbformat": 4,
 "nbformat_minor": 2
}
