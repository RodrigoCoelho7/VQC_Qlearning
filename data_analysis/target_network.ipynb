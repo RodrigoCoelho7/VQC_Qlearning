{
 "cells": [
  {
   "cell_type": "code",
   "execution_count": 1,
   "metadata": {},
   "outputs": [],
   "source": [
    "import numpy as np\n",
    "import matplotlib.pyplot as plt\n",
    "from analysis_functions import Analysis"
   ]
  },
  {
   "cell_type": "code",
   "execution_count": 4,
   "metadata": {},
   "outputs": [],
   "source": [
    "target_1step_path = \"../../results/target_network_loss/uqc_1step\"\n",
    "target_5steps_path = \"../../results/observables_uqc/uqc_2qubits_5layers_ZZ\"\n",
    "target_10steps_path = \"../../results/target_network_loss/uqc_10steps\"\n",
    "target_50steps_path = \"../../results/target_network_loss/uqc_50steps\"\n",
    "target_100steps_path = \"../../results/target_network_loss/uqc_100steps\"\n",
    "target_500steps_path = \"../../results/target_network_loss/uqc_500steps\"\n",
    "\n",
    "target_1step = Analysis(target_1step_path)\n",
    "target_5steps = Analysis(target_5steps_path)\n",
    "target_10steps = Analysis(target_10steps_path)\n",
    "target_50steps = Analysis(target_50steps_path)\n",
    "target_100steps = Analysis(target_100steps_path)\n",
    "target_500steps = Analysis(target_500steps_path)"
   ]
  },
  {
   "attachments": {},
   "cell_type": "markdown",
   "metadata": {},
   "source": [
    "# 1) Performance"
   ]
  },
  {
   "cell_type": "code",
   "execution_count": null,
   "metadata": {},
   "outputs": [],
   "source": []
  }
 ],
 "metadata": {
  "kernelspec": {
   "display_name": "tf",
   "language": "python",
   "name": "python3"
  },
  "language_info": {
   "codemirror_mode": {
    "name": "ipython",
    "version": 3
   },
   "file_extension": ".py",
   "mimetype": "text/x-python",
   "name": "python",
   "nbconvert_exporter": "python",
   "pygments_lexer": "ipython3",
   "version": "3.9.16"
  },
  "orig_nbformat": 4
 },
 "nbformat": 4,
 "nbformat_minor": 2
}
