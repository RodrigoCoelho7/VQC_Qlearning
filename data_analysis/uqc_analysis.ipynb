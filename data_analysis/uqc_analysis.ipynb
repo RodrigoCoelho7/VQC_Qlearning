{
 "cells": [
  {
   "cell_type": "code",
   "execution_count": 2,
   "metadata": {},
   "outputs": [],
   "source": [
    "import matplotlib.pyplot as plt\n",
    "import numpy as np\n",
    "import pandas as pd\n",
    "import pickle\n",
    "import os"
   ]
  },
  {
   "cell_type": "code",
   "execution_count": 3,
   "metadata": {},
   "outputs": [],
   "source": [
    "# Load the Data\n",
    "\n",
    "gs_exp_non_path = \"../../results/continuous/uqc/globalexpectation_outscaling/lastZ_obs/skolik_non_optimal_hyper\"\n",
    "pickle_files = [f for f in os.listdir(gs_exp_non_path) if f.endswith(\".pkl\")]\n",
    "gs_exp_non_agents = []\n",
    "\n",
    "for pickle_file in pickle_files:\n",
    "    with open(os.path.join(gs_exp_non_path, pickle_file), 'rb') as f:\n",
    "        gs_exp_non_agents.append(pickle.load(f))\n",
    "        # Do something with the agent data"
   ]
  },
  {
   "cell_type": "code",
   "execution_count": 4,
   "metadata": {},
   "outputs": [
    {
     "data": {
      "text/plain": [
       "[array([[0.93203306, 2.5629804 , 1.6217475 , 2.728239  , 3.1276445 ]],\n",
       "       dtype=float32),\n",
       " array([[ 0.26444513,  0.7693851 , -0.8167833 , -1.7268474 ],\n",
       "        [-0.00549886,  0.5820641 , -1.1452103 ,  0.10333122],\n",
       "        [-1.2968433 ,  0.13369344,  0.23310113,  1.8201323 ],\n",
       "        [-1.3384502 , -2.8702576 ,  1.5164281 ,  0.52828425],\n",
       "        [-0.6024033 ,  3.08327   , -1.126494  , -1.7457869 ]],\n",
       "       dtype=float32),\n",
       " array([-0.75047517, -0.27597174,  2.7247653 , -1.8157327 ,  2.5507638 ],\n",
       "       dtype=float32),\n",
       " array([[1.]], dtype=float32)]"
      ]
     },
     "execution_count": 4,
     "metadata": {},
     "output_type": "execute_result"
    }
   ],
   "source": [
    "gs_exp_non_agents[0][\"weights\"]"
   ]
  },
  {
   "cell_type": "code",
   "execution_count": null,
   "metadata": {},
   "outputs": [],
   "source": [
    "# Load the Data\n",
    "\n",
    "#python main.py configs/continuous/uqc/globalexpectation_outscaling/lastZ_obs/skolik_non_optimal_hyper.py & python main.py configs/continuous/uqc/globalexpectation_outscaling/lastZ_obs/skolik_non_optimal_hyper.py & python main.py configs/continuous/uqc/globalexpectation_outscaling/lastZ_obs/skolik_non_optimal_hyper.py & python main.py configs/continuous/uqc/globalexpectation_outscaling/lastZ_obs/skolik_non_optimal_hyper.py & python main.py configs/continuous/uqc/globalexpectation_outscaling/lastZ_obs/skolik_non_optimal_hyper.py\n",
    "#python main.py configs/continuous/uqc/globalexpectation_outscaling/lastZ_obs/skolik_non_optimal_hyper.py & python main.py configs/continuous/uqc/globalexpectation_outscaling/lastZ_obs/skolik_non_optimal_hyper.py & python main.py configs/continuous/uqc/globalexpectation_outscaling/lastZ_obs/skolik_non_optimal_hyper.py & python main.py configs/continuous/uqc/globalexpectation_outscaling/lastZ_obs/skolik_non_optimal_hyper.py & python main.py configs/continuous/uqc/globalexpectation_outscaling/lastZ_obs/skolik_non_optimal_hyper.py\n",
    "#python main.py configs/continuous/uqc/globalexpectation_outscaling/lastZ_obs/skolik_optimal_hyper.py & python main.py configs/continuous/uqc/globalexpectation_outscaling/lastZ_obs/skolik_optimal_hyper.py & python main.py configs/continuous/uqc/globalexpectation_outscaling/lastZ_obs/skolik_optimal_hyper.py & python main.py configs/continuous/uqc/globalexpectation_outscaling/lastZ_obs/skolik_optimal_hyper.py & python main.py configs/continuous/uqc/globalexpectation_outscaling/lastZ_obs/skolik_optimal_hyper.py\n",
    "#python main.py configs/continuous/uqc/globalexpectation_outscaling/lastZ_obs/skolik_optimal_hyper.py & python main.py configs/continuous/uqc/globalexpectation_outscaling/lastZ_obs/skolik_optimal_hyper.py & python main.py configs/continuous/uqc/globalexpectation_outscaling/lastZ_obs/skolik_optimal_hyper.py & python main.py configs/continuous/uqc/globalexpectation_outscaling/lastZ_obs/skolik_optimal_hyper.py & python main.py configs/continuous/uqc/globalexpectation_outscaling/lastZ_obs/skolik_optimal_hyper.py\n",
    "#python main.py configs/continuous/uqc/globalskolik_outscaling/lastZ_obs/skolik_non_optimal_hyper.py & python main.py configs/continuous/uqc/globalskolik_outscaling/lastZ_obs/skolik_non_optimal_hyper.py & python main.py configs/continuous/uqc/globalskolik_outscaling/lastZ_obs/skolik_non_optimal_hyper.py & python main.py configs/continuous/uqc/globalskolik_outscaling/lastZ_obs/skolik_non_optimal_hyper.py & python main.py configs/continuous/uqc/globalskolik_outscaling/lastZ_obs/skolik_non_optimal_hyper.py\n",
    "#python main.py configs/continuous/uqc/globalskolik_outscaling/lastZ_obs/skolik_non_optimal_hyper.py & python main.py configs/continuous/uqc/globalskolik_outscaling/lastZ_obs/skolik_non_optimal_hyper.py & python main.py configs/continuous/uqc/globalskolik_outscaling/lastZ_obs/skolik_non_optimal_hyper.py & python main.py configs/continuous/uqc/globalskolik_outscaling/lastZ_obs/skolik_non_optimal_hyper.py & python main.py configs/continuous/uqc/globalskolik_outscaling/lastZ_obs/skolik_non_optimal_hyper.py\n",
    "#python main.py configs/continuous/uqc/globalskolik_outscaling/lastZ_obs/skolik_optimal_hyper.py & python main.py configs/continuous/uqc/globalskolik_outscaling/lastZ_obs/skolik_optimal_hyper.py & python main.py configs/continuous/uqc/globalskolik_outscaling/lastZ_obs/skolik_optimal_hyper.py & python main.py configs/continuous/uqc/globalskolik_outscaling/lastZ_obs/skolik_optimal_hyper.py & python main.py configs/continuous/uqc/globalskolik_outscaling/lastZ_obs/skolik_optimal_hyper.py\n",
    "#python main.py configs/continuous/uqc/globalskolik_outscaling/lastZ_obs/skolik_optimal_hyper.py & python main.py configs/continuous/uqc/globalskolik_outscaling/lastZ_obs/skolik_optimal_hyper.py & python main.py configs/continuous/uqc/globalskolik_outscaling/lastZ_obs/skolik_optimal_hyper.py & python main.py configs/continuous/uqc/globalskolik_outscaling/lastZ_obs/skolik_optimal_hyper.py & python main.py configs/continuous/uqc/globalskolik_outscaling/lastZ_obs/skolik_optimal_hyper.py\n",
    "#python main.py configs/continuous/uqc/localexpectation_outscaling/lastZ_obs/skolik_non_optimal_hyper.py & python main.py configs/continuous/uqc/localexpectation_outscaling/lastZ_obs/skolik_non_optimal_hyper.py & python main.py configs/continuous/uqc/localexpectation_outscaling/lastZ_obs/skolik_non_optimal_hyper.py & python main.py configs/continuous/uqc/localexpectation_outscaling/lastZ_obs/skolik_non_optimal_hyper.py & python main.py configs/continuous/uqc/localexpectation_outscaling/lastZ_obs/skolik_non_optimal_hyper.py\n",
    "#python main.py configs/continuous/uqc/localexpectation_outscaling/lastZ_obs/skolik_non_optimal_hyper.py & python main.py configs/continuous/uqc/localexpectation_outscaling/lastZ_obs/skolik_non_optimal_hyper.py & python main.py configs/continuous/uqc/localexpectation_outscaling/lastZ_obs/skolik_non_optimal_hyper.py & python main.py configs/continuous/uqc/localexpectation_outscaling/lastZ_obs/skolik_non_optimal_hyper.py & python main.py configs/continuous/uqc/localexpectation_outscaling/lastZ_obs/skolik_non_optimal_hyper.py\n",
    "#python main.py configs/continuous/uqc/localexpectation_outscaling/lastZ_obs/skolik_optimal_hyper.py & python main.py configs/continuous/uqc/localexpectation_outscaling/lastZ_obs/skolik_optimal_hyper.py & python main.py configs/continuous/uqc/localexpectation_outscaling/lastZ_obs/skolik_optimal_hyper.py & python main.py configs/continuous/uqc/localexpectation_outscaling/lastZ_obs/skolik_optimal_hyper.py & python main.py configs/continuous/uqc/localexpectation_outscaling/lastZ_obs/skolik_optimal_hyper.py\n",
    "#python main.py configs/continuous/uqc/localexpectation_outscaling/lastZ_obs/skolik_optimal_hyper.py & python main.py configs/continuous/uqc/localexpectation_outscaling/lastZ_obs/skolik_optimal_hyper.py & python main.py configs/continuous/uqc/localexpectation_outscaling/lastZ_obs/skolik_optimal_hyper.py & python main.py configs/continuous/uqc/localexpectation_outscaling/lastZ_obs/skolik_optimal_hyper.py & python main.py configs/continuous/uqc/localexpectation_outscaling/lastZ_obs/skolik_optimal_hyper.py\n",
    "#python main.py configs/continuous/uqc/localskolik_outscaling/lastZ_obs/skolik_non_optimal_hyper.py & python main.py configs/continuous/uqc/localskolik_outscaling/lastZ_obs/skolik_non_optimal_hyper.py & python main.py configs/continuous/uqc/localskolik_outscaling/lastZ_obs/skolik_non_optimal_hyper.py & python main.py configs/continuous/uqc/localskolik_outscaling/lastZ_obs/skolik_non_optimal_hyper.py & python main.py configs/continuous/uqc/localskolik_outscaling/lastZ_obs/skolik_non_optimal_hyper.py\n",
    "#python main.py configs/continuous/uqc/localskolik_outscaling/lastZ_obs/skolik_non_optimal_hyper.py & python main.py configs/continuous/uqc/localskolik_outscaling/lastZ_obs/skolik_non_optimal_hyper.py & python main.py configs/continuous/uqc/localskolik_outscaling/lastZ_obs/skolik_non_optimal_hyper.py & python main.py configs/continuous/uqc/localskolik_outscaling/lastZ_obs/skolik_non_optimal_hyper.py & python main.py configs/continuous/uqc/localskolik_outscaling/lastZ_obs/skolik_non_optimal_hyper.py\n",
    "#python main.py configs/continuous/uqc/localskolik_outscaling/lastZ_obs/skolik_optimal_hyper.py & python main.py configs/continuous/uqc/localskolik_outscaling/lastZ_obs/skolik_optimal_hyper.py & python main.py configs/continuous/uqc/localskolik_outscaling/lastZ_obs/skolik_optimal_hyper.py & python main.py configs/continuous/uqc/localskolik_outscaling/lastZ_obs/skolik_optimal_hyper.py & python main.py configs/continuous/uqc/localskolik_outscaling/lastZ_obs/skolik_optimal_hyper.py\n",
    "#python main.py configs/continuous/uqc/localskolik_outscaling/lastZ_obs/skolik_optimal_hyper.py & python main.py configs/continuous/uqc/localskolik_outscaling/lastZ_obs/skolik_optimal_hyper.py & python main.py configs/continuous/uqc/localskolik_outscaling/lastZ_obs/skolik_optimal_hyper.py & python main.py configs/continuous/uqc/localskolik_outscaling/lastZ_obs/skolik_optimal_hyper.py & python main.py configs/continuous/uqc/localskolik_outscaling/lastZ_obs/skolik_optimal_hyper.py"
   ]
  }
 ],
 "metadata": {
  "kernelspec": {
   "display_name": "tf",
   "language": "python",
   "name": "python3"
  },
  "language_info": {
   "codemirror_mode": {
    "name": "ipython",
    "version": 3
   },
   "file_extension": ".py",
   "mimetype": "text/x-python",
   "name": "python",
   "nbconvert_exporter": "python",
   "pygments_lexer": "ipython3",
   "version": "3.9.15"
  },
  "orig_nbformat": 4
 },
 "nbformat": 4,
 "nbformat_minor": 2
}
