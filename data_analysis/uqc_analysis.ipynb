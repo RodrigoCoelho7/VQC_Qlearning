{
 "cells": [
  {
   "cell_type": "code",
   "execution_count": 1,
   "metadata": {},
   "outputs": [],
   "source": [
    "import matplotlib.pyplot as plt\n",
    "import numpy as np\n",
    "import pandas as pd\n",
    "import pickle"
   ]
  },
  {
   "cell_type": "code",
   "execution_count": null,
   "metadata": {},
   "outputs": [],
   "source": [
    "# Load the Data\n",
    "\n",
    "#python main.py configs/continuous/uqc/globalexpectation_outscaling/lastZ_obs/skolik_non_optimal_hyper.py & python main.py configs/continuous/uqc/globalexpectation_outscaling/lastZ_obs/skolik_non_optimal_hyper.py & python main.py configs/continuous/uqc/globalexpectation_outscaling/lastZ_obs/skolik_non_optimal_hyper.py & python main.py configs/continuous/uqc/globalexpectation_outscaling/lastZ_obs/skolik_non_optimal_hyper.py & python main.py configs/continuous/uqc/globalexpectation_outscaling/lastZ_obs/skolik_non_optimal_hyper.py\n",
    "#python main.py configs/continuous/uqc/globalexpectation_outscaling/lastZ_obs/skolik_non_optimal_hyper.py & python main.py configs/continuous/uqc/globalexpectation_outscaling/lastZ_obs/skolik_non_optimal_hyper.py & python main.py configs/continuous/uqc/globalexpectation_outscaling/lastZ_obs/skolik_non_optimal_hyper.py & python main.py configs/continuous/uqc/globalexpectation_outscaling/lastZ_obs/skolik_non_optimal_hyper.py & python main.py configs/continuous/uqc/globalexpectation_outscaling/lastZ_obs/skolik_non_optimal_hyper.py\n",
    "#python main.py configs/continuous/uqc/globalexpectation_outscaling/lastZ_obs/skolik_optimal_hyper.py & python main.py configs/continuous/uqc/globalexpectation_outscaling/lastZ_obs/skolik_optimal_hyper.py & python main.py configs/continuous/uqc/globalexpectation_outscaling/lastZ_obs/skolik_optimal_hyper.py & python main.py configs/continuous/uqc/globalexpectation_outscaling/lastZ_obs/skolik_optimal_hyper.py & python main.py configs/continuous/uqc/globalexpectation_outscaling/lastZ_obs/skolik_optimal_hyper.py\n",
    "#python main.py configs/continuous/uqc/globalexpectation_outscaling/lastZ_obs/skolik_optimal_hyper.py & python main.py configs/continuous/uqc/globalexpectation_outscaling/lastZ_obs/skolik_optimal_hyper.py & python main.py configs/continuous/uqc/globalexpectation_outscaling/lastZ_obs/skolik_optimal_hyper.py & python main.py configs/continuous/uqc/globalexpectation_outscaling/lastZ_obs/skolik_optimal_hyper.py & python main.py configs/continuous/uqc/globalexpectation_outscaling/lastZ_obs/skolik_optimal_hyper.py\n",
    "#python main.py configs/continuous/uqc/globalskolik_outscaling/lastZ_obs/skolik_non_optimal_hyper.py & python main.py configs/continuous/uqc/globalskolik_outscaling/lastZ_obs/skolik_non_optimal_hyper.py & python main.py configs/continuous/uqc/globalskolik_outscaling/lastZ_obs/skolik_non_optimal_hyper.py & python main.py configs/continuous/uqc/globalskolik_outscaling/lastZ_obs/skolik_non_optimal_hyper.py & python main.py configs/continuous/uqc/globalskolik_outscaling/lastZ_obs/skolik_non_optimal_hyper.py\n",
    "#python main.py configs/continuous/uqc/globalskolik_outscaling/lastZ_obs/skolik_non_optimal_hyper.py & python main.py configs/continuous/uqc/globalskolik_outscaling/lastZ_obs/skolik_non_optimal_hyper.py & python main.py configs/continuous/uqc/globalskolik_outscaling/lastZ_obs/skolik_non_optimal_hyper.py & python main.py configs/continuous/uqc/globalskolik_outscaling/lastZ_obs/skolik_non_optimal_hyper.py & python main.py configs/continuous/uqc/globalskolik_outscaling/lastZ_obs/skolik_non_optimal_hyper.py\n",
    "#python main.py configs/continuous/uqc/globalskolik_outscaling/lastZ_obs/skolik_optimal_hyper.py & python main.py configs/continuous/uqc/globalskolik_outscaling/lastZ_obs/skolik_optimal_hyper.py & python main.py configs/continuous/uqc/globalskolik_outscaling/lastZ_obs/skolik_optimal_hyper.py & python main.py configs/continuous/uqc/globalskolik_outscaling/lastZ_obs/skolik_optimal_hyper.py & python main.py configs/continuous/uqc/globalskolik_outscaling/lastZ_obs/skolik_optimal_hyper.py\n",
    "#python main.py configs/continuous/uqc/globalskolik_outscaling/lastZ_obs/skolik_optimal_hyper.py & python main.py configs/continuous/uqc/globalskolik_outscaling/lastZ_obs/skolik_optimal_hyper.py & python main.py configs/continuous/uqc/globalskolik_outscaling/lastZ_obs/skolik_optimal_hyper.py & python main.py configs/continuous/uqc/globalskolik_outscaling/lastZ_obs/skolik_optimal_hyper.py & python main.py configs/continuous/uqc/globalskolik_outscaling/lastZ_obs/skolik_optimal_hyper.py\n",
    "#python main.py configs/continuous/uqc/localexpectation_outscaling/lastZ_obs/skolik_non_optimal_hyper.py & python main.py configs/continuous/uqc/localexpectation_outscaling/lastZ_obs/skolik_non_optimal_hyper.py & python main.py configs/continuous/uqc/localexpectation_outscaling/lastZ_obs/skolik_non_optimal_hyper.py & python main.py configs/continuous/uqc/localexpectation_outscaling/lastZ_obs/skolik_non_optimal_hyper.py & python main.py configs/continuous/uqc/localexpectation_outscaling/lastZ_obs/skolik_non_optimal_hyper.py\n",
    "#python main.py configs/continuous/uqc/localexpectation_outscaling/lastZ_obs/skolik_non_optimal_hyper.py & python main.py configs/continuous/uqc/localexpectation_outscaling/lastZ_obs/skolik_non_optimal_hyper.py & python main.py configs/continuous/uqc/localexpectation_outscaling/lastZ_obs/skolik_non_optimal_hyper.py & python main.py configs/continuous/uqc/localexpectation_outscaling/lastZ_obs/skolik_non_optimal_hyper.py & python main.py configs/continuous/uqc/localexpectation_outscaling/lastZ_obs/skolik_non_optimal_hyper.py\n",
    "#python main.py configs/continuous/uqc/localexpectation_outscaling/lastZ_obs/skolik_optimal_hyper.py & python main.py configs/continuous/uqc/localexpectation_outscaling/lastZ_obs/skolik_optimal_hyper.py & python main.py configs/continuous/uqc/localexpectation_outscaling/lastZ_obs/skolik_optimal_hyper.py & python main.py configs/continuous/uqc/localexpectation_outscaling/lastZ_obs/skolik_optimal_hyper.py & python main.py configs/continuous/uqc/localexpectation_outscaling/lastZ_obs/skolik_optimal_hyper.py\n",
    "#python main.py configs/continuous/uqc/localexpectation_outscaling/lastZ_obs/skolik_optimal_hyper.py & python main.py configs/continuous/uqc/localexpectation_outscaling/lastZ_obs/skolik_optimal_hyper.py & python main.py configs/continuous/uqc/localexpectation_outscaling/lastZ_obs/skolik_optimal_hyper.py & python main.py configs/continuous/uqc/localexpectation_outscaling/lastZ_obs/skolik_optimal_hyper.py & python main.py configs/continuous/uqc/localexpectation_outscaling/lastZ_obs/skolik_optimal_hyper.py\n",
    "#python main.py configs/continuous/uqc/localskolik_outscaling/lastZ_obs/skolik_non_optimal_hyper.py & python main.py configs/continuous/uqc/localskolik_outscaling/lastZ_obs/skolik_non_optimal_hyper.py & python main.py configs/continuous/uqc/localskolik_outscaling/lastZ_obs/skolik_non_optimal_hyper.py & python main.py configs/continuous/uqc/localskolik_outscaling/lastZ_obs/skolik_non_optimal_hyper.py & python main.py configs/continuous/uqc/localskolik_outscaling/lastZ_obs/skolik_non_optimal_hyper.py\n",
    "#python main.py configs/continuous/uqc/localskolik_outscaling/lastZ_obs/skolik_non_optimal_hyper.py & python main.py configs/continuous/uqc/localskolik_outscaling/lastZ_obs/skolik_non_optimal_hyper.py & python main.py configs/continuous/uqc/localskolik_outscaling/lastZ_obs/skolik_non_optimal_hyper.py & python main.py configs/continuous/uqc/localskolik_outscaling/lastZ_obs/skolik_non_optimal_hyper.py & python main.py configs/continuous/uqc/localskolik_outscaling/lastZ_obs/skolik_non_optimal_hyper.py\n",
    "#python main.py configs/continuous/uqc/localskolik_outscaling/lastZ_obs/skolik_optimal_hyper.py & python main.py configs/continuous/uqc/localskolik_outscaling/lastZ_obs/skolik_optimal_hyper.py & python main.py configs/continuous/uqc/localskolik_outscaling/lastZ_obs/skolik_optimal_hyper.py & python main.py configs/continuous/uqc/localskolik_outscaling/lastZ_obs/skolik_optimal_hyper.py & python main.py configs/continuous/uqc/localskolik_outscaling/lastZ_obs/skolik_optimal_hyper.py\n",
    "#python main.py configs/continuous/uqc/localskolik_outscaling/lastZ_obs/skolik_optimal_hyper.py & python main.py configs/continuous/uqc/localskolik_outscaling/lastZ_obs/skolik_optimal_hyper.py & python main.py configs/continuous/uqc/localskolik_outscaling/lastZ_obs/skolik_optimal_hyper.py & python main.py configs/continuous/uqc/localskolik_outscaling/lastZ_obs/skolik_optimal_hyper.py & python main.py configs/continuous/uqc/localskolik_outscaling/lastZ_obs/skolik_optimal_hyper.py"
   ]
  }
 ],
 "metadata": {
  "kernelspec": {
   "display_name": "tf",
   "language": "python",
   "name": "python3"
  },
  "language_info": {
   "codemirror_mode": {
    "name": "ipython",
    "version": 3
   },
   "file_extension": ".py",
   "mimetype": "text/x-python",
   "name": "python",
   "nbconvert_exporter": "python",
   "pygments_lexer": "ipython3",
   "version": "3.9.15"
  },
  "orig_nbformat": 4
 },
 "nbformat": 4,
 "nbformat_minor": 2
}
