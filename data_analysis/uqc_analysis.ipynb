{
 "cells": [
  {
   "cell_type": "code",
   "execution_count": 1,
   "metadata": {},
   "outputs": [],
   "source": [
    "import matplotlib.pyplot as plt\n",
    "import numpy as np\n",
    "import pandas as pd\n",
    "import pickle\n",
    "import os"
   ]
  },
  {
   "cell_type": "code",
   "execution_count": 7,
   "metadata": {},
   "outputs": [],
   "source": [
    "# Load the Data\n",
    "\n",
    "gs_exp_non_path = \"../../results/continuous/uqc/globalexpectation_outscaling/lastZ_obs/skolik_non_optimal_hyper\"\n",
    "gs_exp_opt_path = \"../../results/continuous/uqc/globalexpectation_outscaling/lastZ_obs/skolik_optimal_hyper\"\n",
    "ls_exp_non_path = \"../../results/continuous/uqc/localexpectation_outscaling/lastZ_obs/skolik_non_optimal_hyper\"\n",
    "ls_exp_opt_path = \"../../results/continuous/uqc/localexpectation_outscaling/lastZ_obs/skolik_optimal_hyper\"\n",
    "gs_sko_non_path = \"../../results/continuous/uqc/globalskolik_outscaling/lastZ_obs/skolik_non_optimal_hyper\"\n",
    "gs_sko_opt_path = \"../../results/continuous/uqc/globalskolik_outscaling/lastZ_obs/skolik_optimal_hyper\"\n",
    "ls_sko_non_path = \"../../results/continuous/uqc/localskolik_outscaling/lastZ_obs/skolik_non_optimal_hyper\"\n",
    "ls_sko_opt_path = \"../../results/continuous/uqc/localskolik_outscaling/lastZ_obs/skolik_optimal_hyper\"\n",
    "\n",
    "paths = [gs_exp_non_path, gs_exp_opt_path, ls_exp_non_path, ls_exp_opt_path, gs_sko_non_path, gs_sko_opt_path, ls_sko_non_path, ls_sko_opt_path]\n",
    "\n",
    "pickle_files = [f for f in os.listdir(gs_exp_non_path) if f.endswith(\".pkl\")]\n",
    "gs_exp_non_agents = []\n",
    "gs_exp_opt_agents = []\n",
    "ls_exp_non_agents = []\n",
    "ls_exp_opt_agents = []\n",
    "gs_sko_non_agents = []\n",
    "gs_sko_opt_agents = []\n",
    "ls_sko_non_agents = []\n",
    "ls_sko_opt_agents = []\n",
    "\n",
    "agents = [gs_exp_non_agents, gs_exp_opt_agents, ls_exp_non_agents, ls_exp_opt_agents, gs_sko_non_agents, gs_sko_opt_agents, ls_sko_non_agents, ls_sko_opt_agents]\n",
    "\n",
    "for i,p in enumerate(paths):\n",
    "    pickle_files = [f for f in os.listdir(p) if f.endswith(\".pkl\")]\n",
    "    for pickle_file in pickle_files:\n",
    "        with open(os.path.join(p, pickle_file), 'rb') as f:\n",
    "            agents[i].append(pickle.load(f))\n",
    "            # Do something with the agent data"
   ]
  },
  {
   "cell_type": "code",
   "execution_count": 8,
   "metadata": {},
   "outputs": [],
   "source": [
    "gs_exp_non_agents,gs_exp_opt_agents,ls_exp_non_agents,ls_exp_opt_agents,gs_sko_non_agents,gs_sko_opt_agents,ls_sko_non_agents,ls_sko_opt_agents = agents"
   ]
  },
  {
   "cell_type": "code",
   "execution_count": null,
   "metadata": {},
   "outputs": [],
   "source": [
    "#Let's plot the moving average of the rewards of the last 25 episodes for each agent\n",
    "\n",
    "\"\"\"\n",
    "python main.py configs/continuous/uqc/globalskolik_outscaling/lastZ_obs/skolik_non_optimal_hyper.py & python main.py configs/continuous/uqc/globalskolik_outscaling/lastZ_obs/skolik_non_optimal_hyper.py & python main.py configs/continuous/uqc/globalskolik_outscaling/lastZ_obs/skolik_non_optimal_hyper.py & python main.py configs/continuous/uqc/globalskolik_outscaling/lastZ_obs/skolik_non_optimal_hyper.py & python main.py configs/continuous/uqc/globalskolik_outscaling/lastZ_obs/skolik_non_optimal_hyper.py\n",
    "python main.py configs/continuous/uqc/globalskolik_outscaling/lastZ_obs/skolik_non_optimal_hyper.py & python main.py configs/continuous/uqc/globalskolik_outscaling/lastZ_obs/skolik_non_optimal_hyper.py & python main.py configs/continuous/uqc/globalskolik_outscaling/lastZ_obs/skolik_non_optimal_hyper.py & python main.py configs/continuous/uqc/globalskolik_outscaling/lastZ_obs/skolik_non_optimal_hyper.py & python main.py configs/continuous/uqc/globalskolik_outscaling/lastZ_obs/skolik_non_optimal_hyper.py\n",
    "python main.py configs/continuous/uqc/globalskolik_outscaling/lastZ_obs/skolik_optimal_hyper.py & python main.py configs/continuous/uqc/globalskolik_outscaling/lastZ_obs/skolik_optimal_hyper.py & python main.py configs/continuous/uqc/globalskolik_outscaling/lastZ_obs/skolik_optimal_hyper.py & python main.py configs/continuous/uqc/globalskolik_outscaling/lastZ_obs/skolik_optimal_hyper.py & python main.py configs/continuous/uqc/globalskolik_outscaling/lastZ_obs/skolik_optimal_hyper.py\n",
    "python main.py configs/continuous/uqc/globalskolik_outscaling/lastZ_obs/skolik_optimal_hyper.py & python main.py configs/continuous/uqc/globalskolik_outscaling/lastZ_obs/skolik_optimal_hyper.py & python main.py configs/continuous/uqc/globalskolik_outscaling/lastZ_obs/skolik_optimal_hyper.py & python main.py configs/continuous/uqc/globalskolik_outscaling/lastZ_obs/skolik_optimal_hyper.py & python main.py configs/continuous/uqc/globalskolik_outscaling/lastZ_obs/skolik_optimal_hyper.py\n",
    "python main.py configs/continuous/uqc/localexpectation_outscaling/lastZ_obs/skolik_non_optimal_hyper.py & python main.py configs/continuous/uqc/localexpectation_outscaling/lastZ_obs/skolik_non_optimal_hyper.py & python main.py configs/continuous/uqc/localexpectation_outscaling/lastZ_obs/skolik_non_optimal_hyper.py & python main.py configs/continuous/uqc/localexpectation_outscaling/lastZ_obs/skolik_non_optimal_hyper.py & python main.py configs/continuous/uqc/localexpectation_outscaling/lastZ_obs/skolik_non_optimal_hyper.py\n",
    "python main.py configs/continuous/uqc/localexpectation_outscaling/lastZ_obs/skolik_non_optimal_hyper.py & python main.py configs/continuous/uqc/localexpectation_outscaling/lastZ_obs/skolik_non_optimal_hyper.py & python main.py configs/continuous/uqc/localexpectation_outscaling/lastZ_obs/skolik_non_optimal_hyper.py & python main.py configs/continuous/uqc/localexpectation_outscaling/lastZ_obs/skolik_non_optimal_hyper.py & python main.py configs/continuous/uqc/localexpectation_outscaling/lastZ_obs/skolik_non_optimal_hyper.py\n",
    "python main.py configs/continuous/uqc/localexpectation_outscaling/lastZ_obs/skolik_optimal_hyper.py & python main.py configs/continuous/uqc/localexpectation_outscaling/lastZ_obs/skolik_optimal_hyper.py & python main.py configs/continuous/uqc/localexpectation_outscaling/lastZ_obs/skolik_optimal_hyper.py & python main.py configs/continuous/uqc/localexpectation_outscaling/lastZ_obs/skolik_optimal_hyper.py & python main.py configs/continuous/uqc/localexpectation_outscaling/lastZ_obs/skolik_optimal_hyper.py\n",
    "python main.py configs/continuous/uqc/localexpectation_outscaling/lastZ_obs/skolik_optimal_hyper.py & python main.py configs/continuous/uqc/localexpectation_outscaling/lastZ_obs/skolik_optimal_hyper.py & python main.py configs/continuous/uqc/localexpectation_outscaling/lastZ_obs/skolik_optimal_hyper.py & python main.py configs/continuous/uqc/localexpectation_outscaling/lastZ_obs/skolik_optimal_hyper.py & python main.py configs/continuous/uqc/localexpectation_outscaling/lastZ_obs/skolik_optimal_hyper.py\n",
    "python main.py configs/continuous/uqc/localskolik_outscaling/lastZ_obs/skolik_non_optimal_hyper.py & python main.py configs/continuous/uqc/localskolik_outscaling/lastZ_obs/skolik_non_optimal_hyper.py & python main.py configs/continuous/uqc/localskolik_outscaling/lastZ_obs/skolik_non_optimal_hyper.py & python main.py configs/continuous/uqc/localskolik_outscaling/lastZ_obs/skolik_non_optimal_hyper.py & python main.py configs/continuous/uqc/localskolik_outscaling/lastZ_obs/skolik_non_optimal_hyper.py\n",
    "python main.py configs/continuous/uqc/localskolik_outscaling/lastZ_obs/skolik_non_optimal_hyper.py & python main.py configs/continuous/uqc/localskolik_outscaling/lastZ_obs/skolik_non_optimal_hyper.py & python main.py configs/continuous/uqc/localskolik_outscaling/lastZ_obs/skolik_non_optimal_hyper.py & python main.py configs/continuous/uqc/localskolik_outscaling/lastZ_obs/skolik_non_optimal_hyper.py & python main.py configs/continuous/uqc/localskolik_outscaling/lastZ_obs/skolik_non_optimal_hyper.py\n",
    "python main.py configs/continuous/uqc/localskolik_outscaling/lastZ_obs/skolik_optimal_hyper.py & python main.py configs/continuous/uqc/localskolik_outscaling/lastZ_obs/skolik_optimal_hyper.py & python main.py configs/continuous/uqc/localskolik_outscaling/lastZ_obs/skolik_optimal_hyper.py & python main.py configs/continuous/uqc/localskolik_outscaling/lastZ_obs/skolik_optimal_hyper.py & python main.py configs/continuous/uqc/localskolik_outscaling/lastZ_obs/skolik_optimal_hyper.py\n",
    "python main.py configs/continuous/uqc/localskolik_outscaling/lastZ_obs/skolik_optimal_hyper.py & python main.py configs/continuous/uqc/localskolik_outscaling/lastZ_obs/skolik_optimal_hyper.py & python main.py configs/continuous/uqc/localskolik_outscaling/lastZ_obs/skolik_optimal_hyper.py & python main.py configs/continuous/uqc/localskolik_outscaling/lastZ_obs/skolik_optimal_hyper.py & python main.py configs/continuous/uqc/localskolik_outscaling/lastZ_obs/skolik_optimal_hyper.py\n",
    "\"\"\"\n"
   ]
  }
 ],
 "metadata": {
  "kernelspec": {
   "display_name": "tf",
   "language": "python",
   "name": "python3"
  },
  "language_info": {
   "codemirror_mode": {
    "name": "ipython",
    "version": 3
   },
   "file_extension": ".py",
   "mimetype": "text/x-python",
   "name": "python",
   "nbconvert_exporter": "python",
   "pygments_lexer": "ipython3",
   "version": "3.9.15"
  },
  "orig_nbformat": 4
 },
 "nbformat": 4,
 "nbformat_minor": 2
}
