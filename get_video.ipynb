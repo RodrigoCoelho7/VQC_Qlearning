{
 "cells": [
  {
   "cell_type": "code",
   "execution_count": 1,
   "metadata": {},
   "outputs": [
    {
     "name": "stderr",
     "output_type": "stream",
     "text": [
      "2023-10-16 15:48:01.010682: W tensorflow/stream_executor/platform/default/dso_loader.cc:64] Could not load dynamic library 'libcudart.so.11.0'; dlerror: libcudart.so.11.0: cannot open shared object file: No such file or directory\n",
      "2023-10-16 15:48:01.010720: I tensorflow/stream_executor/cuda/cudart_stub.cc:29] Ignore above cudart dlerror if you do not have a GPU set up on your machine.\n",
      "2023-10-16 15:48:02.968408: E tensorflow/stream_executor/cuda/cuda_driver.cc:271] failed call to cuInit: CUDA_ERROR_NO_DEVICE: no CUDA-capable device is detected\n",
      "2023-10-16 15:48:02.968463: I tensorflow/stream_executor/cuda/cuda_diagnostics.cc:156] kernel driver does not appear to be running on this host (Rodrigo-PC): /proc/driver/nvidia/version does not exist\n",
      "2023-10-16 15:48:02.968750: I tensorflow/core/platform/cpu_feature_guard.cc:151] This TensorFlow binary is optimized with oneAPI Deep Neural Network Library (oneDNN) to use the following CPU instructions in performance-critical operations:  AVX2 AVX512F FMA\n",
      "To enable them in other operations, rebuild TensorFlow with the appropriate compiler flags.\n"
     ]
    }
   ],
   "source": [
    "import os\n",
    "os.environ['CUDA_VISIBLE_DEVICES'] = ''\n",
    "import tensorflow as tf\n",
    "import numpy as np\n",
    "import gym\n",
    "from vqc.vqc_circuits import SkolikSchuld\n",
    "import cirq\n",
    "import tensorflow_quantum as tfq\n",
    "from data_analysis.analysis_functions import Analysis"
   ]
  },
  {
   "cell_type": "code",
   "execution_count": 2,
   "metadata": {},
   "outputs": [],
   "source": [
    "class DataReupPQC(tf.keras.layers.Layer):\n",
    "\n",
    "    def __init__(self, vqc, observables, activation, weights, name=\"MyPQC\"):\n",
    "        super(DataReupPQC, self).__init__(name=name)\n",
    "\n",
    "        circuit, theta_symbols, input_symbols = vqc.circuit, vqc.parameters, vqc.inputs\n",
    "        self.n_layers = vqc.num_layers\n",
    "\n",
    "        self.rotation_weights = weights[0]\n",
    "        self.input_weights = weights[1]\n",
    "        self.output_weights = weights[2]\n",
    "\n",
    "        self.theta = tf.Variable(initial_value=self.rotation_weights, trainable=False, name=\"thetas\")\n",
    "        \n",
    "        self.lmbd = tf.Variable(initial_value=self.input_weights, trainable=False, name=\"lambdas\")\n",
    "        \n",
    "        # Define explicit symbol order,\n",
    "        symbols = [str(symb) for symb in theta_symbols + input_symbols]\n",
    "        self.indices = tf.constant([symbols.index(a) for a in sorted(symbols)])\n",
    "        \n",
    "        self.activation = activation\n",
    "        self.empty_circuit = tfq.convert_to_tensor([cirq.Circuit()])\n",
    "        self.computation_layer = tfq.layers.ControlledPQC(circuit, observables)\n",
    "\n",
    "    def call(self, inputs):\n",
    "        #Inputs is a list of tensors, the first one is the input data with shape (batch_size, state_dim)\n",
    "        # Batch dim gives the dimension of the batch (16,32,etc)\n",
    "        batch_dim = tf.gather(tf.shape(inputs[0]), 0)\n",
    "\n",
    "        #tiled_up_circuits tiles the required number of circuits for the batch size\n",
    "        tiled_up_circuits = tf.repeat(self.empty_circuit, repeats=batch_dim)\n",
    "\n",
    "        #tiled_up_thetas tiles the required number of thetas for the batch size\n",
    "        tiled_up_thetas = tf.tile(self.theta, multiples=[batch_dim, 1])\n",
    "\n",
    "        #tiled_up_inputs tiles the required number of inputs (states) for the number of layers in the case of data reup\n",
    "        tiled_up_inputs = tf.tile(inputs[0], multiples=[1, self.n_layers])\n",
    "\n",
    "        scaled_inputs = tf.einsum(\"i,ji->ji\", self.lmbd, tiled_up_inputs)\n",
    "\n",
    "        squashed_inputs = tf.atan(scaled_inputs)\n",
    "\n",
    "        joined_vars = tf.concat([tiled_up_thetas, squashed_inputs], axis=1)\n",
    "        joined_vars = tf.gather(joined_vars, self.indices, axis=1)\n",
    "\n",
    "        output = self.computation_layer([tiled_up_circuits, joined_vars])\n",
    "        \n",
    "        return output\n",
    "    \n",
    "\n",
    "class LocalSkolikRescaling(tf.keras.layers.Layer):\n",
    "    def __init__(self, weights):\n",
    "        super(LocalSkolikRescaling, self).__init__()\n",
    "        self.w = tf.Variable(\n",
    "            initial_value=weights[2], dtype=\"float32\",\n",
    "            trainable=False, name=\"obs-weights\")\n",
    "\n",
    "    def call(self, inputs):\n",
    "        return tf.math.multiply((inputs+1)/2, tf.repeat(self.w,repeats=tf.shape(inputs)[0],axis=0))\n",
    "    \n",
    "def QuantumQLearningAgent(vqc, quantum_model, observables, target,state_dim, rescaling_type, activation,weights):\n",
    "    input_tensor = tf.keras.Input(shape=(state_dim, ), dtype=tf.dtypes.float32, name='input')\n",
    "    pqc = quantum_model(vqc, observables, activation, weights)([input_tensor])\n",
    "    process = tf.keras.Sequential([rescaling_type(weights)], name=target*\"Target\"+\"Q-values\")\n",
    "    Q_values = process(pqc)\n",
    "    model = tf.keras.Model(inputs=[input_tensor], outputs=Q_values)\n",
    "    return model"
   ]
  },
  {
   "cell_type": "code",
   "execution_count": 3,
   "metadata": {},
   "outputs": [],
   "source": [
    "# Parameters for the VQC\n",
    "model_quantum = True\n",
    "num_qubits = 4\n",
    "num_layers = 5\n",
    "vqc = SkolikSchuld(num_qubits, num_layers)\n",
    "qubits = cirq.GridQubit.rect(1, num_qubits)\n",
    "ops = [cirq.Z(q) for q in qubits]\n",
    "observables = [ops[0]*ops[1], ops[2]*ops[3]]\n",
    "rescaling_type = LocalSkolikRescaling\n",
    "state_dim = 4\n",
    "activation = \"linear\"\n",
    "\n",
    "path = \"../results/thesis/1.1/skolik_datareup\"\n",
    "skolik_datareup = Analysis(path)\n",
    "weights = skolik_datareup.get_final_weights()[2]\n",
    "\n",
    "quantum_model = DataReupPQC\n",
    "model = QuantumQLearningAgent(vqc, quantum_model, observables, False, state_dim, rescaling_type, activation, weights)\n",
    "\n",
    "def select_action(state, model):\n",
    "    state_array = np.array(state) \n",
    "    state = tf.convert_to_tensor([state_array])\n",
    "    q_vals = model([state])\n",
    "    action = int(tf.argmax(q_vals[0]).numpy())\n",
    "    return action"
   ]
  },
  {
   "cell_type": "code",
   "execution_count": 8,
   "metadata": {},
   "outputs": [
    {
     "ename": "FileNotFoundError",
     "evalue": "[Errno 2] No such file or directory: 'Xvfb'",
     "output_type": "error",
     "traceback": [
      "\u001b[0;31m---------------------------------------------------------------------------\u001b[0m",
      "\u001b[0;31mFileNotFoundError\u001b[0m                         Traceback (most recent call last)",
      "\u001b[1;32m/home/rodrigo/VQC_Qlearning/get_video.ipynb Cell 4\u001b[0m line \u001b[0;36m4\n\u001b[1;32m      <a href='vscode-notebook-cell://wsl%2Bubuntu/home/rodrigo/VQC_Qlearning/get_video.ipynb#W5sdnNjb2RlLXJlbW90ZQ%3D%3D?line=0'>1</a>\u001b[0m \u001b[39mfrom\u001b[39;00m \u001b[39mpyvirtualdisplay\u001b[39;00m \u001b[39mimport\u001b[39;00m Display\n\u001b[1;32m      <a href='vscode-notebook-cell://wsl%2Bubuntu/home/rodrigo/VQC_Qlearning/get_video.ipynb#W5sdnNjb2RlLXJlbW90ZQ%3D%3D?line=2'>3</a>\u001b[0m \u001b[39m# Start virtual display\u001b[39;00m\n\u001b[0;32m----> <a href='vscode-notebook-cell://wsl%2Bubuntu/home/rodrigo/VQC_Qlearning/get_video.ipynb#W5sdnNjb2RlLXJlbW90ZQ%3D%3D?line=3'>4</a>\u001b[0m display \u001b[39m=\u001b[39m Display(visible\u001b[39m=\u001b[39;49m\u001b[39m0\u001b[39;49m, size\u001b[39m=\u001b[39;49m(\u001b[39m1400\u001b[39;49m, \u001b[39m900\u001b[39;49m))\n\u001b[1;32m      <a href='vscode-notebook-cell://wsl%2Bubuntu/home/rodrigo/VQC_Qlearning/get_video.ipynb#W5sdnNjb2RlLXJlbW90ZQ%3D%3D?line=4'>5</a>\u001b[0m display\u001b[39m.\u001b[39mstart()\n",
      "File \u001b[0;32m~/miniconda3/envs/tf/lib/python3.9/site-packages/pyvirtualdisplay/display.py:54\u001b[0m, in \u001b[0;36mDisplay.__init__\u001b[0;34m(self, backend, visible, size, color_depth, bgcolor, use_xauth, retries, extra_args, manage_global_env, **kwargs)\u001b[0m\n\u001b[1;32m     51\u001b[0m \u001b[39mif\u001b[39;00m \u001b[39mnot\u001b[39;00m \u001b[39mcls\u001b[39m:\n\u001b[1;32m     52\u001b[0m     \u001b[39mraise\u001b[39;00m \u001b[39mValueError\u001b[39;00m(\u001b[39m\"\u001b[39m\u001b[39munknown backend: \u001b[39m\u001b[39m%s\u001b[39;00m\u001b[39m\"\u001b[39m \u001b[39m%\u001b[39m \u001b[39mself\u001b[39m\u001b[39m.\u001b[39m_backend)\n\u001b[0;32m---> 54\u001b[0m \u001b[39mself\u001b[39m\u001b[39m.\u001b[39m_obj \u001b[39m=\u001b[39m \u001b[39mcls\u001b[39;49m(\n\u001b[1;32m     55\u001b[0m     size\u001b[39m=\u001b[39;49msize,\n\u001b[1;32m     56\u001b[0m     color_depth\u001b[39m=\u001b[39;49mcolor_depth,\n\u001b[1;32m     57\u001b[0m     bgcolor\u001b[39m=\u001b[39;49mbgcolor,\n\u001b[1;32m     58\u001b[0m     retries\u001b[39m=\u001b[39;49mretries,\n\u001b[1;32m     59\u001b[0m     use_xauth\u001b[39m=\u001b[39;49muse_xauth,\n\u001b[1;32m     60\u001b[0m     \u001b[39m# check_startup=check_startup,\u001b[39;49;00m\n\u001b[1;32m     61\u001b[0m     extra_args\u001b[39m=\u001b[39;49mextra_args,\n\u001b[1;32m     62\u001b[0m     manage_global_env\u001b[39m=\u001b[39;49mmanage_global_env,\n\u001b[1;32m     63\u001b[0m     \u001b[39m*\u001b[39;49m\u001b[39m*\u001b[39;49mkwargs\n\u001b[1;32m     64\u001b[0m )\n",
      "File \u001b[0;32m~/miniconda3/envs/tf/lib/python3.9/site-packages/pyvirtualdisplay/xvfb.py:44\u001b[0m, in \u001b[0;36mXvfbDisplay.__init__\u001b[0;34m(self, size, color_depth, bgcolor, use_xauth, fbdir, dpi, retries, extra_args, manage_global_env)\u001b[0m\n\u001b[1;32m     41\u001b[0m \u001b[39mself\u001b[39m\u001b[39m.\u001b[39m_fbdir \u001b[39m=\u001b[39m fbdir\n\u001b[1;32m     42\u001b[0m \u001b[39mself\u001b[39m\u001b[39m.\u001b[39m_dpi \u001b[39m=\u001b[39m dpi\n\u001b[0;32m---> 44\u001b[0m AbstractDisplay\u001b[39m.\u001b[39;49m\u001b[39m__init__\u001b[39;49m(\n\u001b[1;32m     45\u001b[0m     \u001b[39mself\u001b[39;49m,\n\u001b[1;32m     46\u001b[0m     PROGRAM,\n\u001b[1;32m     47\u001b[0m     use_xauth\u001b[39m=\u001b[39;49muse_xauth,\n\u001b[1;32m     48\u001b[0m     retries\u001b[39m=\u001b[39;49mretries,\n\u001b[1;32m     49\u001b[0m     extra_args\u001b[39m=\u001b[39;49mextra_args,\n\u001b[1;32m     50\u001b[0m     manage_global_env\u001b[39m=\u001b[39;49mmanage_global_env,\n\u001b[1;32m     51\u001b[0m )\n",
      "File \u001b[0;32m~/miniconda3/envs/tf/lib/python3.9/site-packages/pyvirtualdisplay/abstractdisplay.py:85\u001b[0m, in \u001b[0;36mAbstractDisplay.__init__\u001b[0;34m(self, program, use_xauth, retries, extra_args, manage_global_env)\u001b[0m\n\u001b[1;32m     82\u001b[0m \u001b[39mself\u001b[39m\u001b[39m.\u001b[39m_pipe_wfd \u001b[39m=\u001b[39m \u001b[39mNone\u001b[39;00m\n\u001b[1;32m     83\u001b[0m \u001b[39mself\u001b[39m\u001b[39m.\u001b[39m_retries_current \u001b[39m=\u001b[39m \u001b[39m0\u001b[39m\n\u001b[0;32m---> 85\u001b[0m helptext \u001b[39m=\u001b[39m get_helptext(program)\n\u001b[1;32m     86\u001b[0m \u001b[39mself\u001b[39m\u001b[39m.\u001b[39m_has_displayfd \u001b[39m=\u001b[39m \u001b[39m\"\u001b[39m\u001b[39m-displayfd\u001b[39m\u001b[39m\"\u001b[39m \u001b[39min\u001b[39;00m helptext\n\u001b[1;32m     87\u001b[0m \u001b[39mif\u001b[39;00m \u001b[39mnot\u001b[39;00m \u001b[39mself\u001b[39m\u001b[39m.\u001b[39m_has_displayfd:\n",
      "File \u001b[0;32m~/miniconda3/envs/tf/lib/python3.9/site-packages/pyvirtualdisplay/util.py:13\u001b[0m, in \u001b[0;36mget_helptext\u001b[0;34m(program)\u001b[0m\n\u001b[1;32m      6\u001b[0m cmd \u001b[39m=\u001b[39m [program, \u001b[39m\"\u001b[39m\u001b[39m-help\u001b[39m\u001b[39m\"\u001b[39m]\n\u001b[1;32m      8\u001b[0m \u001b[39m# py3.7+\u001b[39;00m\n\u001b[1;32m      9\u001b[0m \u001b[39m# p = subprocess.run(cmd, capture_output=True)\u001b[39;00m\n\u001b[1;32m     10\u001b[0m \u001b[39m# stderr = p.stderr\u001b[39;00m\n\u001b[1;32m     11\u001b[0m \n\u001b[1;32m     12\u001b[0m \u001b[39m# py3.6 also\u001b[39;00m\n\u001b[0;32m---> 13\u001b[0m p \u001b[39m=\u001b[39m subprocess\u001b[39m.\u001b[39;49mPopen(\n\u001b[1;32m     14\u001b[0m     cmd,\n\u001b[1;32m     15\u001b[0m     stdout\u001b[39m=\u001b[39;49msubprocess\u001b[39m.\u001b[39;49mPIPE,\n\u001b[1;32m     16\u001b[0m     stderr\u001b[39m=\u001b[39;49msubprocess\u001b[39m.\u001b[39;49mPIPE,\n\u001b[1;32m     17\u001b[0m     shell\u001b[39m=\u001b[39;49m\u001b[39mFalse\u001b[39;49;00m,\n\u001b[1;32m     18\u001b[0m )\n\u001b[1;32m     19\u001b[0m _, stderr \u001b[39m=\u001b[39m p\u001b[39m.\u001b[39mcommunicate()\n\u001b[1;32m     21\u001b[0m helptext \u001b[39m=\u001b[39m stderr\u001b[39m.\u001b[39mdecode(\u001b[39m\"\u001b[39m\u001b[39mutf-8\u001b[39m\u001b[39m\"\u001b[39m, \u001b[39m\"\u001b[39m\u001b[39mignore\u001b[39m\u001b[39m\"\u001b[39m)\n",
      "File \u001b[0;32m~/miniconda3/envs/tf/lib/python3.9/subprocess.py:951\u001b[0m, in \u001b[0;36mPopen.__init__\u001b[0;34m(self, args, bufsize, executable, stdin, stdout, stderr, preexec_fn, close_fds, shell, cwd, env, universal_newlines, startupinfo, creationflags, restore_signals, start_new_session, pass_fds, user, group, extra_groups, encoding, errors, text, umask)\u001b[0m\n\u001b[1;32m    947\u001b[0m         \u001b[39mif\u001b[39;00m \u001b[39mself\u001b[39m\u001b[39m.\u001b[39mtext_mode:\n\u001b[1;32m    948\u001b[0m             \u001b[39mself\u001b[39m\u001b[39m.\u001b[39mstderr \u001b[39m=\u001b[39m io\u001b[39m.\u001b[39mTextIOWrapper(\u001b[39mself\u001b[39m\u001b[39m.\u001b[39mstderr,\n\u001b[1;32m    949\u001b[0m                     encoding\u001b[39m=\u001b[39mencoding, errors\u001b[39m=\u001b[39merrors)\n\u001b[0;32m--> 951\u001b[0m     \u001b[39mself\u001b[39;49m\u001b[39m.\u001b[39;49m_execute_child(args, executable, preexec_fn, close_fds,\n\u001b[1;32m    952\u001b[0m                         pass_fds, cwd, env,\n\u001b[1;32m    953\u001b[0m                         startupinfo, creationflags, shell,\n\u001b[1;32m    954\u001b[0m                         p2cread, p2cwrite,\n\u001b[1;32m    955\u001b[0m                         c2pread, c2pwrite,\n\u001b[1;32m    956\u001b[0m                         errread, errwrite,\n\u001b[1;32m    957\u001b[0m                         restore_signals,\n\u001b[1;32m    958\u001b[0m                         gid, gids, uid, umask,\n\u001b[1;32m    959\u001b[0m                         start_new_session)\n\u001b[1;32m    960\u001b[0m \u001b[39mexcept\u001b[39;00m:\n\u001b[1;32m    961\u001b[0m     \u001b[39m# Cleanup if the child failed starting.\u001b[39;00m\n\u001b[1;32m    962\u001b[0m     \u001b[39mfor\u001b[39;00m f \u001b[39min\u001b[39;00m \u001b[39mfilter\u001b[39m(\u001b[39mNone\u001b[39;00m, (\u001b[39mself\u001b[39m\u001b[39m.\u001b[39mstdin, \u001b[39mself\u001b[39m\u001b[39m.\u001b[39mstdout, \u001b[39mself\u001b[39m\u001b[39m.\u001b[39mstderr)):\n",
      "File \u001b[0;32m~/miniconda3/envs/tf/lib/python3.9/subprocess.py:1821\u001b[0m, in \u001b[0;36mPopen._execute_child\u001b[0;34m(self, args, executable, preexec_fn, close_fds, pass_fds, cwd, env, startupinfo, creationflags, shell, p2cread, p2cwrite, c2pread, c2pwrite, errread, errwrite, restore_signals, gid, gids, uid, umask, start_new_session)\u001b[0m\n\u001b[1;32m   1819\u001b[0m     \u001b[39mif\u001b[39;00m errno_num \u001b[39m!=\u001b[39m \u001b[39m0\u001b[39m:\n\u001b[1;32m   1820\u001b[0m         err_msg \u001b[39m=\u001b[39m os\u001b[39m.\u001b[39mstrerror(errno_num)\n\u001b[0;32m-> 1821\u001b[0m     \u001b[39mraise\u001b[39;00m child_exception_type(errno_num, err_msg, err_filename)\n\u001b[1;32m   1822\u001b[0m \u001b[39mraise\u001b[39;00m child_exception_type(err_msg)\n",
      "\u001b[0;31mFileNotFoundError\u001b[0m: [Errno 2] No such file or directory: 'Xvfb'"
     ]
    }
   ],
   "source": [
    "from pyvirtualdisplay import Display\n",
    "\n",
    "# Start virtual display\n",
    "display = Display(visible=0, size=(1400, 900))\n",
    "display.start()"
   ]
  },
  {
   "cell_type": "code",
   "execution_count": 7,
   "metadata": {},
   "outputs": [
    {
     "ename": "ImportError",
     "evalue": "\n    Error occurred while running `from pyglet.gl import *`\n    HINT: make sure you have OpenGL install. On Ubuntu, you can run 'apt-get install python-opengl'.\n    If you're running on a server, you may need a virtual frame buffer; something like this should work:\n    'xvfb-run -s \"-screen 0 1400x900x24\" python <your_script.py>'\n    ",
     "output_type": "error",
     "traceback": [
      "\u001b[0;31m---------------------------------------------------------------------------\u001b[0m",
      "\u001b[0;31mImportError\u001b[0m                               Traceback (most recent call last)",
      "File \u001b[0;32m~/miniconda3/envs/tf/lib/python3.9/site-packages/gym/envs/classic_control/rendering.py:25\u001b[0m\n\u001b[1;32m     24\u001b[0m \u001b[39mtry\u001b[39;00m:\n\u001b[0;32m---> 25\u001b[0m     \u001b[39mfrom\u001b[39;00m \u001b[39mpyglet\u001b[39;00m\u001b[39m.\u001b[39;00m\u001b[39mgl\u001b[39;00m \u001b[39mimport\u001b[39;00m \u001b[39m*\u001b[39m\n\u001b[1;32m     26\u001b[0m \u001b[39mexcept\u001b[39;00m \u001b[39mImportError\u001b[39;00m \u001b[39mas\u001b[39;00m e:\n",
      "File \u001b[0;32m~/miniconda3/envs/tf/lib/python3.9/site-packages/pyglet/gl/__init__.py:95\u001b[0m\n\u001b[1;32m     36\u001b[0m \u001b[39m\"\"\"OpenGL and GLU interface.\u001b[39;00m\n\u001b[1;32m     37\u001b[0m \n\u001b[1;32m     38\u001b[0m \u001b[39mThis package imports all OpenGL, GLU and registered OpenGL extension\u001b[39;00m\n\u001b[0;32m   (...)\u001b[0m\n\u001b[1;32m     92\u001b[0m \u001b[39mbelow.\u001b[39;00m\n\u001b[1;32m     93\u001b[0m \u001b[39m\"\"\"\u001b[39;00m\n\u001b[0;32m---> 95\u001b[0m \u001b[39mfrom\u001b[39;00m \u001b[39mpyglet\u001b[39;00m\u001b[39m.\u001b[39;00m\u001b[39mgl\u001b[39;00m\u001b[39m.\u001b[39;00m\u001b[39mlib\u001b[39;00m \u001b[39mimport\u001b[39;00m GLException\n\u001b[1;32m     96\u001b[0m \u001b[39mfrom\u001b[39;00m \u001b[39mpyglet\u001b[39;00m\u001b[39m.\u001b[39;00m\u001b[39mgl\u001b[39;00m\u001b[39m.\u001b[39;00m\u001b[39mgl\u001b[39;00m \u001b[39mimport\u001b[39;00m \u001b[39m*\u001b[39m\n",
      "File \u001b[0;32m~/miniconda3/envs/tf/lib/python3.9/site-packages/pyglet/gl/lib.py:149\u001b[0m\n\u001b[1;32m    148\u001b[0m \u001b[39melse\u001b[39;00m:\n\u001b[0;32m--> 149\u001b[0m     \u001b[39mfrom\u001b[39;00m \u001b[39mpyglet\u001b[39;00m\u001b[39m.\u001b[39;00m\u001b[39mgl\u001b[39;00m\u001b[39m.\u001b[39;00m\u001b[39mlib_glx\u001b[39;00m \u001b[39mimport\u001b[39;00m link_GL, link_GLU, link_GLX\n",
      "File \u001b[0;32m~/miniconda3/envs/tf/lib/python3.9/site-packages/pyglet/gl/lib_glx.py:45\u001b[0m\n\u001b[1;32m     43\u001b[0m __all__ \u001b[39m=\u001b[39m [\u001b[39m'\u001b[39m\u001b[39mlink_GL\u001b[39m\u001b[39m'\u001b[39m, \u001b[39m'\u001b[39m\u001b[39mlink_GLU\u001b[39m\u001b[39m'\u001b[39m, \u001b[39m'\u001b[39m\u001b[39mlink_GLX\u001b[39m\u001b[39m'\u001b[39m]\n\u001b[0;32m---> 45\u001b[0m gl_lib \u001b[39m=\u001b[39m pyglet\u001b[39m.\u001b[39;49mlib\u001b[39m.\u001b[39;49mload_library(\u001b[39m'\u001b[39;49m\u001b[39mGL\u001b[39;49m\u001b[39m'\u001b[39;49m)\n\u001b[1;32m     46\u001b[0m glu_lib \u001b[39m=\u001b[39m pyglet\u001b[39m.\u001b[39mlib\u001b[39m.\u001b[39mload_library(\u001b[39m'\u001b[39m\u001b[39mGLU\u001b[39m\u001b[39m'\u001b[39m)\n",
      "File \u001b[0;32m~/miniconda3/envs/tf/lib/python3.9/site-packages/pyglet/lib.py:164\u001b[0m, in \u001b[0;36mLibraryLoader.load_library\u001b[0;34m(self, *names, **kwargs)\u001b[0m\n\u001b[1;32m    162\u001b[0m             \u001b[39mraise\u001b[39;00m \u001b[39mImportError\u001b[39;00m(\u001b[39m\"\u001b[39m\u001b[39mUnexpected error loading library \u001b[39m\u001b[39m%s\u001b[39;00m\u001b[39m: \u001b[39m\u001b[39m%s\u001b[39;00m\u001b[39m\"\u001b[39m \u001b[39m%\u001b[39m (name, \u001b[39mstr\u001b[39m(o)))\n\u001b[0;32m--> 164\u001b[0m \u001b[39mraise\u001b[39;00m \u001b[39mImportError\u001b[39;00m(\u001b[39m'\u001b[39m\u001b[39mLibrary \u001b[39m\u001b[39m\"\u001b[39m\u001b[39m%s\u001b[39;00m\u001b[39m\"\u001b[39m\u001b[39m not found.\u001b[39m\u001b[39m'\u001b[39m \u001b[39m%\u001b[39m names[\u001b[39m0\u001b[39m])\n",
      "\u001b[0;31mImportError\u001b[0m: Library \"GL\" not found.",
      "\nDuring handling of the above exception, another exception occurred:\n",
      "\u001b[0;31mImportError\u001b[0m                               Traceback (most recent call last)",
      "\u001b[1;32m/home/rodrigo/VQC_Qlearning/get_video.ipynb Cell 5\u001b[0m line \u001b[0;36m7\n\u001b[1;32m      <a href='vscode-notebook-cell://wsl%2Bubuntu/home/rodrigo/VQC_Qlearning/get_video.ipynb#W3sdnNjb2RlLXJlbW90ZQ%3D%3D?line=4'>5</a>\u001b[0m done \u001b[39m=\u001b[39m \u001b[39mFalse\u001b[39;00m\n\u001b[1;32m      <a href='vscode-notebook-cell://wsl%2Bubuntu/home/rodrigo/VQC_Qlearning/get_video.ipynb#W3sdnNjb2RlLXJlbW90ZQ%3D%3D?line=5'>6</a>\u001b[0m \u001b[39mwhile\u001b[39;00m \u001b[39mnot\u001b[39;00m done:\n\u001b[0;32m----> <a href='vscode-notebook-cell://wsl%2Bubuntu/home/rodrigo/VQC_Qlearning/get_video.ipynb#W3sdnNjb2RlLXJlbW90ZQ%3D%3D?line=6'>7</a>\u001b[0m     env\u001b[39m.\u001b[39;49mrender()\n\u001b[1;32m      <a href='vscode-notebook-cell://wsl%2Bubuntu/home/rodrigo/VQC_Qlearning/get_video.ipynb#W3sdnNjb2RlLXJlbW90ZQ%3D%3D?line=7'>8</a>\u001b[0m     action \u001b[39m=\u001b[39m select_action(state, model)\n\u001b[1;32m      <a href='vscode-notebook-cell://wsl%2Bubuntu/home/rodrigo/VQC_Qlearning/get_video.ipynb#W3sdnNjb2RlLXJlbW90ZQ%3D%3D?line=8'>9</a>\u001b[0m     state, reward, done, info \u001b[39m=\u001b[39m env\u001b[39m.\u001b[39mstep(action)\n",
      "File \u001b[0;32m~/miniconda3/envs/tf/lib/python3.9/site-packages/gym/core.py:240\u001b[0m, in \u001b[0;36mWrapper.render\u001b[0;34m(self, mode, **kwargs)\u001b[0m\n\u001b[1;32m    239\u001b[0m \u001b[39mdef\u001b[39;00m \u001b[39mrender\u001b[39m(\u001b[39mself\u001b[39m, mode\u001b[39m=\u001b[39m\u001b[39m'\u001b[39m\u001b[39mhuman\u001b[39m\u001b[39m'\u001b[39m, \u001b[39m*\u001b[39m\u001b[39m*\u001b[39mkwargs):\n\u001b[0;32m--> 240\u001b[0m     \u001b[39mreturn\u001b[39;00m \u001b[39mself\u001b[39;49m\u001b[39m.\u001b[39;49menv\u001b[39m.\u001b[39;49mrender(mode, \u001b[39m*\u001b[39;49m\u001b[39m*\u001b[39;49mkwargs)\n",
      "File \u001b[0;32m~/miniconda3/envs/tf/lib/python3.9/site-packages/gym/envs/classic_control/cartpole.py:174\u001b[0m, in \u001b[0;36mCartPoleEnv.render\u001b[0;34m(self, mode)\u001b[0m\n\u001b[1;32m    171\u001b[0m cartheight \u001b[39m=\u001b[39m \u001b[39m30.0\u001b[39m\n\u001b[1;32m    173\u001b[0m \u001b[39mif\u001b[39;00m \u001b[39mself\u001b[39m\u001b[39m.\u001b[39mviewer \u001b[39mis\u001b[39;00m \u001b[39mNone\u001b[39;00m:\n\u001b[0;32m--> 174\u001b[0m     \u001b[39mfrom\u001b[39;00m \u001b[39mgym\u001b[39;00m\u001b[39m.\u001b[39;00m\u001b[39menvs\u001b[39;00m\u001b[39m.\u001b[39;00m\u001b[39mclassic_control\u001b[39;00m \u001b[39mimport\u001b[39;00m rendering\n\u001b[1;32m    175\u001b[0m     \u001b[39mself\u001b[39m\u001b[39m.\u001b[39mviewer \u001b[39m=\u001b[39m rendering\u001b[39m.\u001b[39mViewer(screen_width, screen_height)\n\u001b[1;32m    176\u001b[0m     l, r, t, b \u001b[39m=\u001b[39m \u001b[39m-\u001b[39mcartwidth \u001b[39m/\u001b[39m \u001b[39m2\u001b[39m, cartwidth \u001b[39m/\u001b[39m \u001b[39m2\u001b[39m, cartheight \u001b[39m/\u001b[39m \u001b[39m2\u001b[39m, \u001b[39m-\u001b[39mcartheight \u001b[39m/\u001b[39m \u001b[39m2\u001b[39m\n",
      "File \u001b[0;32m~/miniconda3/envs/tf/lib/python3.9/site-packages/gym/envs/classic_control/rendering.py:27\u001b[0m\n\u001b[1;32m     25\u001b[0m     \u001b[39mfrom\u001b[39;00m \u001b[39mpyglet\u001b[39;00m\u001b[39m.\u001b[39;00m\u001b[39mgl\u001b[39;00m \u001b[39mimport\u001b[39;00m \u001b[39m*\u001b[39m\n\u001b[1;32m     26\u001b[0m \u001b[39mexcept\u001b[39;00m \u001b[39mImportError\u001b[39;00m \u001b[39mas\u001b[39;00m e:\n\u001b[0;32m---> 27\u001b[0m     \u001b[39mraise\u001b[39;00m \u001b[39mImportError\u001b[39;00m(\u001b[39m'''\u001b[39m\n\u001b[1;32m     28\u001b[0m \u001b[39m    Error occurred while running `from pyglet.gl import *`\u001b[39m\n\u001b[1;32m     29\u001b[0m \u001b[39m    HINT: make sure you have OpenGL install. On Ubuntu, you can run \u001b[39m\u001b[39m'\u001b[39m\u001b[39mapt-get install python-opengl\u001b[39m\u001b[39m'\u001b[39m\u001b[39m.\u001b[39m\n\u001b[1;32m     30\u001b[0m \u001b[39m    If you\u001b[39m\u001b[39m'\u001b[39m\u001b[39mre running on a server, you may need a virtual frame buffer; something like this should work:\u001b[39m\n\u001b[1;32m     31\u001b[0m \u001b[39m    \u001b[39m\u001b[39m'\u001b[39m\u001b[39mxvfb-run -s \u001b[39m\u001b[39m\\\"\u001b[39;00m\u001b[39m-screen 0 1400x900x24\u001b[39m\u001b[39m\\\"\u001b[39;00m\u001b[39m python <your_script.py>\u001b[39m\u001b[39m'\u001b[39m\n\u001b[1;32m     32\u001b[0m \u001b[39m    \u001b[39m\u001b[39m'''\u001b[39m)\n\u001b[1;32m     34\u001b[0m \u001b[39mimport\u001b[39;00m \u001b[39mmath\u001b[39;00m\n\u001b[1;32m     35\u001b[0m \u001b[39mimport\u001b[39;00m \u001b[39mnumpy\u001b[39;00m \u001b[39mas\u001b[39;00m \u001b[39mnp\u001b[39;00m\n",
      "\u001b[0;31mImportError\u001b[0m: \n    Error occurred while running `from pyglet.gl import *`\n    HINT: make sure you have OpenGL install. On Ubuntu, you can run 'apt-get install python-opengl'.\n    If you're running on a server, you may need a virtual frame buffer; something like this should work:\n    'xvfb-run -s \"-screen 0 1400x900x24\" python <your_script.py>'\n    "
     ]
    }
   ],
   "source": [
    "env = gym.make('CartPole-v0')\n",
    "frames = []\n",
    "    \n",
    "state = env.reset()\n",
    "done = False\n",
    "while not done:\n",
    "    env.render()\n",
    "    action = select_action(state, model)\n",
    "    state, reward, done, info = env.step(action)\n",
    "env.close()\n",
    "\n",
    "np.save(\"cartpole_frames.npy\", frames)"
   ]
  },
  {
   "cell_type": "code",
   "execution_count": 2,
   "metadata": {},
   "outputs": [],
   "source": [
    "import cv2\n",
    "import numpy as np\n",
    "\n",
    "# Load frames from npy file\n",
    "frames = np.load('acrobot_frames.npy')\n",
    "\n",
    "# Get height and width from the first frame\n",
    "height, width, _ = frames[0].shape\n",
    "\n",
    "# Define the codec and create VideoWriter object\n",
    "fourcc = cv2.VideoWriter_fourcc(*'mp4v')  # You can try other codecs as well\n",
    "out = cv2.VideoWriter('acrobot.mp4', fourcc, 30.0, (width, height))\n",
    "\n",
    "# Write frames to the video file\n",
    "for frame in frames:\n",
    "    out.write(frame)\n",
    "\n",
    "# Release the VideoWriter and close any open windows\n",
    "out.release()\n",
    "cv2.destroyAllWindows()\n",
    "\n"
   ]
  },
  {
   "cell_type": "code",
   "execution_count": null,
   "metadata": {},
   "outputs": [],
   "source": []
  }
 ],
 "metadata": {
  "kernelspec": {
   "display_name": "tf",
   "language": "python",
   "name": "python3"
  },
  "language_info": {
   "codemirror_mode": {
    "name": "ipython",
    "version": 3
   },
   "file_extension": ".py",
   "mimetype": "text/x-python",
   "name": "python",
   "nbconvert_exporter": "python",
   "pygments_lexer": "ipython3",
   "version": "3.9.16"
  }
 },
 "nbformat": 4,
 "nbformat_minor": 2
}
