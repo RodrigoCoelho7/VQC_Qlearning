{
 "cells": [
  {
   "cell_type": "code",
   "execution_count": 1,
   "metadata": {},
   "outputs": [],
   "source": [
    "import pennylane as qml\n",
    "from pennylane import numpy as np\n",
    "from numpy.linalg import qr"
   ]
  },
  {
   "cell_type": "code",
   "execution_count": 2,
   "metadata": {},
   "outputs": [],
   "source": [
    "def qr_haar(N):\n",
    "    \"\"\"Generate a Haar-random matrix using the QR decomposition.\"\"\"\n",
    "    # Step 1\n",
    "    A, B = np.random.normal(size=(N, N)), np.random.normal(size=(N, N))\n",
    "    Z = A + 1j * B\n",
    "\n",
    "    # Step 2\n",
    "    Q, R = qr(Z)\n",
    "\n",
    "    # Step 3\n",
    "    Lambda = np.diag([R[i, i] / np.abs(R[i, i]) for i in range(N)])\n",
    "\n",
    "    # Step 4\n",
    "    return np.dot(Q, Lambda)\n",
    "\n",
    "def haar_integral(num_qubits, samples):\n",
    "\n",
    "    \"\"\"\n",
    "        Return calculation of Haar Integral for a specified number of samples.\n",
    "\n",
    "    \"\"\"\n",
    "    N = 2**num_qubits\n",
    "    randunit_density = np.zeros((N, N), dtype=complex)\n",
    "\n",
    "    zero_state = np.zeros(N, dtype=complex)\n",
    "\n",
    "    zero_state[0] = 1\n",
    "\n",
    "    for _ in range(samples):\n",
    "      A = np.matmul(zero_state, qr_haar(N)).reshape(-1,1)\n",
    "      randunit_density += np.kron(A, A.conj().T) \n",
    "\n",
    "    randunit_density/=samples\n",
    "    return randunit_density"
   ]
  },
  {
   "cell_type": "code",
   "execution_count": 3,
   "metadata": {},
   "outputs": [],
   "source": [
    "import pennylane as qml\n",
    "import numpy as np\n",
    "\n",
    "def pqc_integral(num_qubits, ansatze, size, samples,num_layers):\n",
    "    \"\"\"\n",
    "    Return calculation of Integral for a PQC over the uniformly sampled \n",
    "    parameters θ for the specified number of samples.\n",
    "    \"\"\"\n",
    "    N = num_qubits\n",
    "    randunit_density = np.zeros((2**N, 2**N), dtype=complex)\n",
    "\n",
    "    for _ in range(samples):\n",
    "        params = np.random.uniform(-np.pi, np.pi, size)\n",
    "\n",
    "        # Use PennyLane QNode for circuit definition and execution\n",
    "        @qml.qnode(dev)\n",
    "        def quantum_circuit(params):\n",
    "            ansatze(params, N,num_layers)\n",
    "            return qml.state()\n",
    "\n",
    "        # Execute the PennyLane quantum circuit\n",
    "        state_vector = quantum_circuit(params)\n",
    "\n",
    "        # Reshape the state vector\n",
    "        U = state_vector.reshape(-1, 1)\n",
    "\n",
    "        # Update the density matrix\n",
    "        randunit_density += np.kron(U, U.conj().T)\n",
    "\n",
    "    return randunit_density / samples\n",
    "\n",
    "# Define your ansatz function using PennyLane operations\n",
    "def uqc_circuit(params, num_qubits, num_layers):\n",
    "    for l in range(num_layers - 1):\n",
    "        [qml.RX(params[l, 0, i], wires=i) for i in range(num_qubits)]\n",
    "        [qml.RY(params[l, 1, i], wires=i) for i in range(num_qubits)]\n",
    "        [qml.CZ(wires=[i, i + 1]) for i in range(num_qubits - 1)]\n",
    "        qml.CZ(wires=[num_qubits - 1, 0])\n",
    "    [qml.RX(params[num_layers - 1, 0, i], wires=i) for i in range(num_qubits)]\n",
    "    [qml.RY(params[num_layers - 1, 1, i], wires=i) for i in range(num_qubits)]\n",
    "\n",
    "def idle_circuit(params, num_qubits, num_layers):\n",
    "    for l in range(num_layers):\n",
    "        [qml.Identity(wires=i) for i in range(num_qubits)]\n",
    "\n",
    "def more_expressive_circuit(params, num_qubits, num_layers):\n",
    "    for l in range(num_layers):\n",
    "        [qml.Hadamard(wires=i) for i in range(num_qubits)]\n",
    "        [qml.RZ(params[l, 0, i], wires=i) for i in range(num_qubits)]\n"
   ]
  },
  {
   "cell_type": "code",
   "execution_count": 4,
   "metadata": {},
   "outputs": [
    {
     "data": {
      "text/plain": [
       "0.029033873474706845"
      ]
     },
     "execution_count": 4,
     "metadata": {},
     "output_type": "execute_result"
    }
   ],
   "source": [
    "num_qubits = 4\n",
    "num_layers = 5\n",
    "size = (num_layers,2,num_qubits)\n",
    "samples = 2048\n",
    "dev = qml.device(\"default.qubit\", wires=num_qubits)\n",
    "\n",
    "np.linalg.norm(haar_integral(4, 2048) - pqc_integral(num_qubits, uqc_circuit, size, samples,num_layers))"
   ]
  },
  {
   "cell_type": "code",
   "execution_count": 5,
   "metadata": {},
   "outputs": [
    {
     "data": {
      "text/plain": [
       "0.6984199850008671"
      ]
     },
     "execution_count": 5,
     "metadata": {},
     "output_type": "execute_result"
    }
   ],
   "source": [
    "num_qubits = 1\n",
    "num_layers = 1\n",
    "size = (num_layers,1,num_qubits)\n",
    "samples = 2048\n",
    "dev = qml.device(\"default.qubit\", wires=num_qubits)\n",
    "\n",
    "np.linalg.norm(haar_integral(1, 2048) - pqc_integral(num_qubits, idle_circuit, size, samples,num_layers))"
   ]
  },
  {
   "cell_type": "code",
   "execution_count": 6,
   "metadata": {},
   "outputs": [
    {
     "data": {
      "text/plain": [
       "0.021175089002383025"
      ]
     },
     "execution_count": 6,
     "metadata": {},
     "output_type": "execute_result"
    }
   ],
   "source": [
    "num_qubits = 1\n",
    "num_layers = 1\n",
    "size = (num_layers,1,num_qubits)\n",
    "samples = 2048\n",
    "dev = qml.device(\"default.qubit\", wires=num_qubits)\n",
    "\n",
    "np.linalg.norm(haar_integral(1, 2048) - pqc_integral(num_qubits, more_expressive_circuit, size, samples,num_layers))"
   ]
  },
  {
   "cell_type": "code",
   "execution_count": 7,
   "metadata": {},
   "outputs": [
    {
     "data": {
      "text/plain": [
       "0.021041845157198445"
      ]
     },
     "execution_count": 7,
     "metadata": {},
     "output_type": "execute_result"
    }
   ],
   "source": [
    "np.linalg.norm(haar_integral(2, 2048) - haar_integral(2, 2048))"
   ]
  },
  {
   "cell_type": "code",
   "execution_count": 2,
   "metadata": {},
   "outputs": [
    {
     "data": {
      "text/plain": [
       "0.034228608438357254"
      ]
     },
     "execution_count": 2,
     "metadata": {},
     "output_type": "execute_result"
    }
   ],
   "source": [
    "import numpy as np\n",
    "from scipy.linalg import qr\n",
    "\n",
    "def qr_haar(N):\n",
    "    \"\"\"Generate a Haar-random matrix using the QR decomposition.\"\"\"\n",
    "    # Step 1\n",
    "    A, B = np.random.normal(size=(N, N)), np.random.normal(size=(N, N))\n",
    "    Z = A + 1j * B\n",
    "\n",
    "    # Step 2\n",
    "    Q, R = qr(Z)\n",
    "\n",
    "    # Step 3\n",
    "    Lambda = np.diag([R[i, i] / np.abs(R[i, i]) for i in range(N)])\n",
    "\n",
    "    # Step 4\n",
    "    return np.dot(Q, Lambda)\n",
    "\n",
    "def haar_integral(num_qubits, samples):\n",
    "\n",
    "    N = 2**num_qubits\n",
    "    randunit_density = np.zeros((N**2, N**2), dtype=complex)\n",
    "\n",
    "    zero_state = np.zeros(N, dtype=complex)\n",
    "    zero_state[0] = 1\n",
    "\n",
    "    for _ in range(samples):\n",
    "        A = np.matmul(zero_state, qr_haar(N)).reshape(-1, 1)\n",
    "        B = np.matmul(zero_state, qr_haar(N)).reshape(-1, 1)\n",
    "        \n",
    "        # Update the calculation to compute the outer product and then take the Kronecker product\n",
    "        randunit_density += np.kron(np.outer(A, A.conj()), np.outer(B, B.conj()))\n",
    "\n",
    "    randunit_density /= samples\n",
    "    return randunit_density\n",
    "\n",
    "np.linalg.norm(haar_integral(1, 2048) - haar_integral(1, 2048))"
   ]
  },
  {
   "cell_type": "code",
   "execution_count": 4,
   "metadata": {},
   "outputs": [
    {
     "data": {
      "text/plain": [
       "0.06706083493313106"
      ]
     },
     "execution_count": 4,
     "metadata": {},
     "output_type": "execute_result"
    }
   ],
   "source": [
    "import numpy as np\n",
    "import pennylane as qml\n",
    "\n",
    "# Assuming you have defined your device 'dev' somewhere in your code\n",
    "\n",
    "def pqc_integral_2(num_qubits, ansatze, size, samples, num_layers):\n",
    "    \"\"\"\n",
    "    Return calculation of Integral for a PQC over the uniformly sampled \n",
    "    parameters θ for the specified number of samples.\n",
    "    \"\"\"\n",
    "    N = 2**num_qubits\n",
    "    randunit_density = np.zeros((N**2, N**2), dtype=complex)\n",
    "\n",
    "    for _ in range(samples):\n",
    "        params_1 = np.random.uniform(-np.pi, np.pi, size)\n",
    "        #params_2 = np.random.uniform(-np.pi, np.pi, size)\n",
    "\n",
    "        # Use PennyLane QNode for circuit definition and execution\n",
    "        @qml.qnode(dev)\n",
    "        def quantum_circuit(params):\n",
    "            ansatze(params, num_qubits, num_layers)\n",
    "            return qml.state()\n",
    "\n",
    "        # Execute the PennyLane quantum circuit for the first set of parameters\n",
    "        state_vector_1 = quantum_circuit(params_1)\n",
    "\n",
    "        # Execute the PennyLane quantum circuit for the second set of parameters\n",
    "        state_vector_2 = quantum_circuit(params_1)\n",
    "\n",
    "        # Reshape the state vectors\n",
    "        U_1 = state_vector_1.reshape(-1, 1)\n",
    "        U_2 = state_vector_2.reshape(-1, 1)\n",
    "\n",
    "        # Update the density matrix\n",
    "        #randunit_density += np.kron(U_1, U_1.conj().T) @ np.kron(U_2, U_2.conj().T)\n",
    "        randunit_density += np.kron(np.outer(U_1, U_1.conj()), np.outer(U_2, U_2.conj()))\n",
    "\n",
    "    return randunit_density / samples\n",
    "\n",
    "# Define your ansatz function using PennyLane operations\n",
    "def uqc_circuit(params, num_qubits, num_layers):\n",
    "    for l in range(num_layers - 1):\n",
    "        [qml.RX(params[l, 0, i], wires=i) for i in range(num_qubits)]\n",
    "        [qml.RY(params[l, 1, i], wires=i) for i in range(num_qubits)]\n",
    "        [qml.CZ(wires=[i, i + 1]) for i in range(num_qubits - 1)]\n",
    "        qml.CZ(wires=[num_qubits - 1, 0])\n",
    "    [qml.RX(params[num_layers - 1, 0, i], wires=i) for i in range(num_qubits)]\n",
    "    [qml.RY(params[num_layers - 1, 1, i], wires=i) for i in range(num_qubits)]\n",
    "\n",
    "def idle_circuit(params, num_qubits, num_layers):\n",
    "    for l in range(num_layers):\n",
    "        [qml.Identity(wires=i) for i in range(num_qubits)]\n",
    "\n",
    "# Example usage:\n",
    "num_qubits = 4\n",
    "num_layers = 5\n",
    "size = (num_layers, 2, num_qubits)\n",
    "samples = 2048\n",
    "dev = qml.device(\"default.qubit\", wires=num_qubits)\n",
    "\n",
    "np.linalg.norm(haar_integral(num_qubits, 2048) - pqc_integral_2(num_qubits, uqc_circuit, size, samples, num_layers))\n"
   ]
  },
  {
   "cell_type": "code",
   "execution_count": 21,
   "metadata": {},
   "outputs": [
    {
     "data": {
      "text/plain": [
       "0.029708737345564666"
      ]
     },
     "execution_count": 21,
     "metadata": {},
     "output_type": "execute_result"
    }
   ],
   "source": [
    "np.linalg.norm(haar_integral(1, 2048) - haar_integral(1,2048))"
   ]
  },
  {
   "cell_type": "code",
   "execution_count": 12,
   "metadata": {},
   "outputs": [
    {
     "data": {
      "text/plain": [
       "0.9962977582523471"
      ]
     },
     "execution_count": 12,
     "metadata": {},
     "output_type": "execute_result"
    }
   ],
   "source": [
    "np.linalg.norm(haar_integral(4, 2048) - pqc_integral_2(num_qubits, idle_circuit, size, samples, num_layers))**2"
   ]
  }
 ],
 "metadata": {
  "kernelspec": {
   "display_name": "pennylane",
   "language": "python",
   "name": "python3"
  },
  "language_info": {
   "codemirror_mode": {
    "name": "ipython",
    "version": 3
   },
   "file_extension": ".py",
   "mimetype": "text/x-python",
   "name": "python",
   "nbconvert_exporter": "python",
   "pygments_lexer": "ipython3",
   "version": "3.11.4"
  }
 },
 "nbformat": 4,
 "nbformat_minor": 2
}
