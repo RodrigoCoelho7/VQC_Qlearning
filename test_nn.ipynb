{
 "cells": [
  {
   "cell_type": "code",
   "execution_count": 1,
   "metadata": {},
   "outputs": [
    {
     "name": "stderr",
     "output_type": "stream",
     "text": [
      "2023-08-28 17:19:29.054140: W tensorflow/stream_executor/platform/default/dso_loader.cc:64] Could not load dynamic library 'libcudart.so.11.0'; dlerror: libcudart.so.11.0: cannot open shared object file: No such file or directory\n",
      "2023-08-28 17:19:29.054184: I tensorflow/stream_executor/cuda/cudart_stub.cc:29] Ignore above cudart dlerror if you do not have a GPU set up on your machine.\n"
     ]
    }
   ],
   "source": [
    "import tensorflow as tf"
   ]
  },
  {
   "cell_type": "code",
   "execution_count": 14,
   "metadata": {},
   "outputs": [],
   "source": [
    "def NNQLearningAgent(state_dim, num_actions, activation):\n",
    "    input_tensor = tf.keras.Input(shape=(state_dim, ), dtype=tf.dtypes.float32, name='input')\n",
    "\n",
    "    Q_values = tf.keras.Sequential([\n",
    "        tf.keras.layers.Dense(state_dim, activation=activation, input_shape=(state_dim,)),\n",
    "        tf.keras.layers.Dense(10, activation=activation),\n",
    "        tf.keras.layers.Dense(10, activation=activation),\n",
    "        tf.keras.layers.Dense(num_actions, activation = 'linear'),\n",
    "    ])([input_tensor])\n",
    "\n",
    "    model = tf.keras.Model(inputs=[input_tensor], outputs=Q_values)\n",
    "    return model"
   ]
  },
  {
   "cell_type": "code",
   "execution_count": 15,
   "metadata": {},
   "outputs": [],
   "source": [
    "state_dim = 4\n",
    "num_actions = 2\n",
    "activation = 'relu'\n",
    "\n",
    "model = NNQLearningAgent(state_dim, num_actions, activation)"
   ]
  },
  {
   "cell_type": "code",
   "execution_count": 16,
   "metadata": {},
   "outputs": [
    {
     "name": "stdout",
     "output_type": "stream",
     "text": [
      "Model: \"model_2\"\n",
      "_________________________________________________________________\n",
      " Layer (type)                Output Shape              Param #   \n",
      "=================================================================\n",
      " input (InputLayer)          [(None, 4)]               0         \n",
      "                                                                 \n",
      " sequential_2 (Sequential)   (None, 2)                 202       \n",
      "                                                                 \n",
      "=================================================================\n",
      "Total params: 202\n",
      "Trainable params: 202\n",
      "Non-trainable params: 0\n",
      "_________________________________________________________________\n"
     ]
    }
   ],
   "source": [
    "model.summary()"
   ]
  },
  {
   "cell_type": "code",
   "execution_count": 11,
   "metadata": {},
   "outputs": [
    {
     "data": {
      "text/plain": [
       "<tf.Variable 'dense_3/kernel:0' shape=(4, 4) dtype=float32, numpy=\n",
       "array([[-0.636956  , -0.48248675, -0.5475911 , -0.5286242 ],\n",
       "       [ 0.19304293, -0.6301831 ,  0.70136946, -0.12771088],\n",
       "       [ 0.23096818,  0.10585988,  0.8611408 ,  0.36077064],\n",
       "       [-0.5884497 ,  0.61109   ,  0.7619619 , -0.83189154]],\n",
       "      dtype=float32)>"
      ]
     },
     "execution_count": 11,
     "metadata": {},
     "output_type": "execute_result"
    }
   ],
   "source": [
    "model.weights[0]"
   ]
  },
  {
   "cell_type": "code",
   "execution_count": 13,
   "metadata": {},
   "outputs": [
    {
     "data": {
      "text/plain": [
       "<tf.Variable 'dense_3/kernel:0' shape=(4, 4) dtype=float32, numpy=\n",
       "array([[-0.636956  , -0.48248675, -0.5475911 , -0.5286242 ],\n",
       "       [ 0.19304293, -0.6301831 ,  0.70136946, -0.12771088],\n",
       "       [ 0.23096818,  0.10585988,  0.8611408 ,  0.36077064],\n",
       "       [-0.5884497 ,  0.61109   ,  0.7619619 , -0.83189154]],\n",
       "      dtype=float32)>"
      ]
     },
     "execution_count": 13,
     "metadata": {},
     "output_type": "execute_result"
    }
   ],
   "source": [
    "model.trainable_variables[0]"
   ]
  },
  {
   "cell_type": "code",
   "execution_count": 18,
   "metadata": {},
   "outputs": [],
   "source": [
    "def NeuralNetworkQLearningAgent(hidden_layers, state_dim, num_actions, activation='relu'):\n",
    "    # Input layer\n",
    "    input_tensor = tf.keras.Input(shape=(state_dim, ), dtype=tf.dtypes.float32, name='input')\n",
    "\n",
    "    # Process input tensor according to state_dim\n",
    "    x = tf.keras.layers.Dense(state_dim, activation=activation, input_shape=(state_dim,))(input_tensor)\n",
    "\n",
    "    for units in hidden_layers:\n",
    "        x = tf.keras.layers.Dense(units, activation=activation)(x)\n",
    "\n",
    "    # Output layer\n",
    "    Q_values = tf.keras.layers.Dense(num_actions, activation='linear')(x)\n",
    "    \n",
    "    # Construct and compile model\n",
    "    model = tf.keras.Model(inputs=input_tensor, outputs=Q_values)\n",
    "    return model\n",
    "\n",
    "# Usage\n",
    "hidden_layers = [16,16]  # Just an example architecture\n",
    "state_dim = 4  # For instance, in case of CartPole environment\n",
    "num_actions = 2  # For instance, in case of CartPole environment\n",
    "model = NeuralNetworkQLearningAgent(hidden_layers, state_dim, num_actions)\n"
   ]
  },
  {
   "cell_type": "code",
   "execution_count": 19,
   "metadata": {},
   "outputs": [
    {
     "name": "stdout",
     "output_type": "stream",
     "text": [
      "Model: \"model_5\"\n",
      "_________________________________________________________________\n",
      " Layer (type)                Output Shape              Param #   \n",
      "=================================================================\n",
      " input (InputLayer)          [(None, 4)]               0         \n",
      "                                                                 \n",
      " dense_24 (Dense)            (None, 4)                 20        \n",
      "                                                                 \n",
      " dense_25 (Dense)            (None, 16)                80        \n",
      "                                                                 \n",
      " dense_26 (Dense)            (None, 16)                272       \n",
      "                                                                 \n",
      " dense_27 (Dense)            (None, 2)                 34        \n",
      "                                                                 \n",
      "=================================================================\n",
      "Total params: 406\n",
      "Trainable params: 406\n",
      "Non-trainable params: 0\n",
      "_________________________________________________________________\n"
     ]
    }
   ],
   "source": [
    "model.summary()"
   ]
  },
  {
   "cell_type": "code",
   "execution_count": null,
   "metadata": {},
   "outputs": [],
   "source": []
  }
 ],
 "metadata": {
  "kernelspec": {
   "display_name": "tf",
   "language": "python",
   "name": "python3"
  },
  "language_info": {
   "codemirror_mode": {
    "name": "ipython",
    "version": 3
   },
   "file_extension": ".py",
   "mimetype": "text/x-python",
   "name": "python",
   "nbconvert_exporter": "python",
   "pygments_lexer": "ipython3",
   "version": "3.9.16"
  },
  "orig_nbformat": 4
 },
 "nbformat": 4,
 "nbformat_minor": 2
}
