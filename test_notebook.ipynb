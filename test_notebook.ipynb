{
 "cells": [
  {
   "cell_type": "code",
   "execution_count": 1,
   "metadata": {},
   "outputs": [],
   "source": [
    "import re"
   ]
  },
  {
   "cell_type": "code",
   "execution_count": 1,
   "metadata": {},
   "outputs": [],
   "source": [
    "import sys\n",
    "import os"
   ]
  },
  {
   "cell_type": "code",
   "execution_count": 2,
   "metadata": {},
   "outputs": [],
   "source": [
    "script_path = \"configs/continuous/skolik_arch/schuld_datareup/localskolik_outscaling/ZZ_obs/skolik_optimal_hyper.py\""
   ]
  },
  {
   "cell_type": "code",
   "execution_count": 3,
   "metadata": {},
   "outputs": [],
   "source": [
    "script_path = script_path[:-3]"
   ]
  },
  {
   "cell_type": "code",
   "execution_count": 4,
   "metadata": {},
   "outputs": [
    {
     "data": {
      "text/plain": [
       "'configs/continuous/skolik_arch/schuld_datareup/localskolik_outscaling/ZZ_obs/skolik_optimal_hyper'"
      ]
     },
     "execution_count": 4,
     "metadata": {},
     "output_type": "execute_result"
    }
   ],
   "source": [
    "script_path"
   ]
  },
  {
   "cell_type": "code",
   "execution_count": 5,
   "metadata": {},
   "outputs": [],
   "source": [
    "new_path = script_path.replace(\"configs\", \"../results\")"
   ]
  },
  {
   "cell_type": "code",
   "execution_count": 6,
   "metadata": {},
   "outputs": [
    {
     "data": {
      "text/plain": [
       "'../results/continuous/skolik_arch/schuld_datareup/localskolik_outscaling/ZZ_obs/skolik_optimal_hyper'"
      ]
     },
     "execution_count": 6,
     "metadata": {},
     "output_type": "execute_result"
    }
   ],
   "source": [
    "new_path"
   ]
  },
  {
   "cell_type": "code",
   "execution_count": 7,
   "metadata": {},
   "outputs": [],
   "source": [
    "with open(new_path + \"/test_file.txt\", 'w') as f:\n",
    "    f.write(\"test\")"
   ]
  },
  {
   "cell_type": "code",
   "execution_count": 7,
   "metadata": {},
   "outputs": [
    {
     "ename": "NameError",
     "evalue": "name 'os' is not defined",
     "output_type": "error",
     "traceback": [
      "\u001b[0;31m---------------------------------------------------------------------------\u001b[0m",
      "\u001b[0;31mNameError\u001b[0m                                 Traceback (most recent call last)",
      "Cell \u001b[0;32mIn[7], line 1\u001b[0m\n\u001b[0;32m----> 1\u001b[0m new_path \u001b[39m=\u001b[39m os\u001b[39m.\u001b[39mpath\u001b[39m.\u001b[39mdirname(new_path)\n",
      "\u001b[0;31mNameError\u001b[0m: name 'os' is not defined"
     ]
    }
   ],
   "source": [
    "new_path = os.path.dirname(new_path)"
   ]
  },
  {
   "cell_type": "code",
   "execution_count": 8,
   "metadata": {},
   "outputs": [],
   "source": [
    "import_name = new_path + \"/\""
   ]
  },
  {
   "cell_type": "code",
   "execution_count": 9,
   "metadata": {},
   "outputs": [
    {
     "ename": "ModuleNotFoundError",
     "evalue": "No module named 'results/continuous/skolik_arch/schuld_datareup/localskolik_outscaling/ZZ_obs/skolik_optimal_hyper'",
     "output_type": "error",
     "traceback": [
      "\u001b[0;31m---------------------------------------------------------------------------\u001b[0m",
      "\u001b[0;31mModuleNotFoundError\u001b[0m                       Traceback (most recent call last)",
      "Cell \u001b[0;32mIn[9], line 1\u001b[0m\n\u001b[0;32m----> 1\u001b[0m script \u001b[39m=\u001b[39m \u001b[39m__import__\u001b[39;49m(import_name)\n",
      "\u001b[0;31mModuleNotFoundError\u001b[0m: No module named 'results/continuous/skolik_arch/schuld_datareup/localskolik_outscaling/ZZ_obs/skolik_optimal_hyper'"
     ]
    }
   ],
   "source": [
    "script = __import__(import_name)"
   ]
  },
  {
   "cell_type": "code",
   "execution_count": 1,
   "metadata": {},
   "outputs": [],
   "source": [
    "import tensorflow as tf"
   ]
  },
  {
   "cell_type": "code",
   "execution_count": 227,
   "metadata": {},
   "outputs": [],
   "source": [
    "import pennylane as qml\n",
    "import numpy as np"
   ]
  },
  {
   "cell_type": "code",
   "execution_count": 409,
   "metadata": {},
   "outputs": [],
   "source": [
    "def variational_layer(wires, params):\n",
    "    [qml.RY(params[i], wires[i]) for i in range(len(wires))]\n",
    "    params = params[len(wires):]\n",
    "    [qml.RZ(params[i], wires[i]) for i in range(len(wires))]"
   ]
  },
  {
   "cell_type": "code",
   "execution_count": 410,
   "metadata": {},
   "outputs": [],
   "source": [
    "def entangling_layer(wires):\n",
    "    qml.CZ(wires = [0,1])\n",
    "    qml.CZ(wires = [1,2])\n",
    "    qml.CZ(wires = [2,3])\n",
    "    qml.CZ(wires = [3,0])"
   ]
  },
  {
   "cell_type": "code",
   "execution_count": 411,
   "metadata": {},
   "outputs": [],
   "source": [
    "def data_encoding(wires, data):\n",
    "    [qml.RX(data, wires[i], id = \"x\") for i in range(len(wires))]"
   ]
  },
  {
   "cell_type": "code",
   "execution_count": 412,
   "metadata": {},
   "outputs": [],
   "source": [
    "dev = qml.device(\"default.qubit\", wires = 4)\n",
    "\n",
    "num_layers = 2\n",
    "\n",
    "@qml.qnode(dev)\n",
    "def schuld_datareup(params, data):\n",
    "    for l in range(num_layers):\n",
    "        variational_layer(range(4), params[l])\n",
    "        entangling_layer(range(4))\n",
    "        data_encoding(range(4), data)\n",
    "    variational_layer(range(4), params[num_layers])\n",
    "    return qml.expval(qml.PauliZ(0))"
   ]
  },
  {
   "cell_type": "code",
   "execution_count": 413,
   "metadata": {},
   "outputs": [],
   "source": [
    "@qml.qnode(dev)\n",
    "def basic_datareup(params, data):\n",
    "    for l in range(num_layers-1):\n",
    "        data_encoding(range(4), data)\n",
    "        variational_layer(range(4), params[l])\n",
    "        entangling_layer(range(4))\n",
    "    data_encoding(range(4), data)\n",
    "    variational_layer(range(4), params[num_layers-1])\n",
    "    return qml.expval(qml.PauliZ(0))"
   ]
  },
  {
   "cell_type": "code",
   "execution_count": 414,
   "metadata": {},
   "outputs": [],
   "source": [
    "data = np.random.uniform(-0.05,0.05)\n",
    "params_schuld =[[np.random.uniform(0, np.pi) for i in range(8)] for j in range(num_layers + 1)]\n",
    "params_basic = params_schuld[:-1]"
   ]
  },
  {
   "cell_type": "code",
   "execution_count": 415,
   "metadata": {},
   "outputs": [
    {
     "name": "stdout",
     "output_type": "stream",
     "text": [
      "0: ──RY(1.59)──RZ(1.23)─╭●───────╭Z──RX(-0.02)──RY(1.10)──RZ(0.14)─╭●───────╭Z──RX(-0.02)──RY(0.86)\n",
      "1: ──RY(1.82)──RZ(1.04)─╰Z─╭●────│───RX(-0.02)──RY(1.06)──RZ(2.24)─╰Z─╭●────│───RX(-0.02)──RY(2.52)\n",
      "2: ──RY(2.37)──RZ(0.29)────╰Z─╭●─│───RX(-0.02)──RY(0.90)──RZ(1.50)────╰Z─╭●─│───RX(-0.02)──RY(2.93)\n",
      "3: ──RY(1.36)──RZ(1.80)───────╰Z─╰●──RX(-0.02)──RY(2.92)──RZ(0.97)───────╰Z─╰●──RX(-0.02)──RY(0.49)\n",
      "\n",
      "───RZ(0.65)─┤  <Z>\n",
      "───RZ(2.99)─┤     \n",
      "───RZ(0.74)─┤     \n",
      "───RZ(1.92)─┤     \n"
     ]
    }
   ],
   "source": [
    "print(qml.draw(schuld_datareup)(params_schuld, data))"
   ]
  },
  {
   "cell_type": "code",
   "execution_count": 416,
   "metadata": {},
   "outputs": [
    {
     "name": "stdout",
     "output_type": "stream",
     "text": [
      "0: ──RX(-0.02)──RY(1.59)──RZ(1.23)─╭●───────╭Z──RX(-0.02)──RY(1.10)──RZ(0.14)─┤  <Z>\n",
      "1: ──RX(-0.02)──RY(1.82)──RZ(1.04)─╰Z─╭●────│───RX(-0.02)──RY(1.06)──RZ(2.24)─┤     \n",
      "2: ──RX(-0.02)──RY(2.37)──RZ(0.29)────╰Z─╭●─│───RX(-0.02)──RY(0.90)──RZ(1.50)─┤     \n",
      "3: ──RX(-0.02)──RY(1.36)──RZ(1.80)───────╰Z─╰●──RX(-0.02)──RY(2.92)──RZ(0.97)─┤     \n"
     ]
    }
   ],
   "source": [
    "print(qml.draw(basic_datareup)(params_basic, data))"
   ]
  },
  {
   "cell_type": "code",
   "execution_count": 417,
   "metadata": {},
   "outputs": [],
   "source": [
    "from pennylane.fourier import coefficients, circuit_spectrum\n",
    "freqs_schuld = circuit_spectrum(schuld_datareup)(params_schuld, data)\n",
    "freqs_basic = circuit_spectrum(basic_datareup)(params_basic, data)"
   ]
  },
  {
   "cell_type": "code",
   "execution_count": 418,
   "metadata": {},
   "outputs": [
    {
     "name": "stdout",
     "output_type": "stream",
     "text": [
      "x : [-8.0, -7.0, -6.0, -5.0, -4.0, -3.0, -2.0, -1.0, 0, 1.0, 2.0, 3.0, 4.0, 5.0, 6.0, 7.0, 8.0]\n",
      "x : [-8.0, -7.0, -6.0, -5.0, -4.0, -3.0, -2.0, -1.0, 0, 1.0, 2.0, 3.0, 4.0, 5.0, 6.0, 7.0, 8.0]\n"
     ]
    }
   ],
   "source": [
    "for k,v in freqs_schuld.items():\n",
    "    print(k, \":\", v)\n",
    "\n",
    "for k,v in freqs_basic.items():\n",
    "    print(k, \":\", v)"
   ]
  },
  {
   "cell_type": "code",
   "execution_count": 419,
   "metadata": {},
   "outputs": [],
   "source": [
    "from functools import partial\n",
    "partial_schuld_circuit = partial(schuld_datareup, params_schuld)\n",
    "partial_basic_circuit = partial(basic_datareup, params_basic)\n",
    "\n",
    "coeffs_schuld = coefficients(partial_schuld_circuit, 1, 8)\n",
    "coeffs_basic = coefficients(partial_basic_circuit, 1, 8)"
   ]
  },
  {
   "cell_type": "code",
   "execution_count": 420,
   "metadata": {},
   "outputs": [
    {
     "data": {
      "text/plain": [
       "array([ 1.26849088e-01+0.00000000e+00j,  3.41042175e-02-1.18091284e-01j,\n",
       "       -3.25619507e-03+8.89117135e-02j,  7.86752937e-03-4.77947712e-02j,\n",
       "        6.54491676e-04+1.71420905e-02j,  3.26536184e-18+8.48994078e-17j,\n",
       "        4.57150657e-17+2.44902138e-17j, -5.71438321e-18-3.42862993e-17j,\n",
       "        3.67353207e-18+1.95921710e-17j,  3.67353207e-18-1.95921710e-17j,\n",
       "       -5.71438321e-18+3.42862993e-17j,  4.57150657e-17-2.44902138e-17j,\n",
       "        3.26536184e-18-8.48994078e-17j,  6.54491676e-04-1.71420905e-02j,\n",
       "        7.86752937e-03+4.77947712e-02j, -3.25619507e-03-8.89117135e-02j,\n",
       "        3.41042175e-02+1.18091284e-01j])"
      ]
     },
     "execution_count": 420,
     "metadata": {},
     "output_type": "execute_result"
    }
   ],
   "source": [
    "coeffs_schuld"
   ]
  },
  {
   "cell_type": "code",
   "execution_count": 421,
   "metadata": {},
   "outputs": [
    {
     "data": {
      "text/plain": [
       "array([-3.01807956e-03+0.00000000e+00j,  5.84186977e-03-5.42566937e-03j,\n",
       "       -2.00196345e-03+2.74597018e-03j,  1.94728992e-03-5.42566937e-03j,\n",
       "       -4.92923671e-04+1.37298509e-03j,  7.47461733e-18+3.26536184e-18j,\n",
       "       -1.13267239e-17+6.12255344e-19j, -1.85717454e-17+2.75514905e-18j,\n",
       "       -3.01025544e-17+2.83678310e-17j, -3.01025544e-17-2.83678310e-17j,\n",
       "       -1.85717454e-17-2.75514905e-18j, -1.13267239e-17-6.12255344e-19j,\n",
       "        7.47461733e-18-3.26536184e-18j, -4.92923671e-04-1.37298509e-03j,\n",
       "        1.94728992e-03+5.42566937e-03j, -2.00196345e-03-2.74597018e-03j,\n",
       "        5.84186977e-03+5.42566937e-03j])"
      ]
     },
     "execution_count": 421,
     "metadata": {},
     "output_type": "execute_result"
    }
   ],
   "source": [
    "coeffs_basic"
   ]
  },
  {
   "cell_type": "code",
   "execution_count": 422,
   "metadata": {},
   "outputs": [],
   "source": [
    "from pennylane.fourier.visualize import *\n",
    "import matplotlib.pyplot as plt"
   ]
  },
  {
   "cell_type": "code",
   "execution_count": 423,
   "metadata": {},
   "outputs": [
    {
     "data": {
      "text/plain": [
       "array([<AxesSubplot: ylabel='real'>, <AxesSubplot: ylabel='imag'>],\n",
       "      dtype=object)"
      ]
     },
     "execution_count": 423,
     "metadata": {},
     "output_type": "execute_result"
    },
    {
     "data": {
      "image/png": "[encoded data removed]",
      "text/plain": [
       "<Figure size 640x480 with 2 Axes>"
      ]
     },
     "metadata": {},
     "output_type": "display_data"
    }
   ],
   "source": [
    "fig, ax = plt.subplots(2, 1, sharex=True, sharey=True) # Set up the axes\n",
    "bar(coeffs_schuld, 1, ax)"
   ]
  },
  {
   "cell_type": "code",
   "execution_count": 424,
   "metadata": {},
   "outputs": [
    {
     "data": {
      "text/plain": [
       "array([<AxesSubplot: ylabel='real'>, <AxesSubplot: ylabel='imag'>],\n",
       "      dtype=object)"
      ]
     },
     "execution_count": 424,
     "metadata": {},
     "output_type": "execute_result"
    },
    {
     "data": {
      "image/png": "[encoded data removed]",
      "text/plain": [
       "<Figure size 640x480 with 2 Axes>"
      ]
     },
     "metadata": {},
     "output_type": "display_data"
    }
   ],
   "source": [
    "fig, ax = plt.subplots(2, 1, sharex=True, sharey=True) # Set up the axes\n",
    "bar(coeffs_basic, 1, ax)"
   ]
  },
  {
   "cell_type": "code",
   "execution_count": 98,
   "metadata": {},
   "outputs": [],
   "source": [
    "@qml.qnode(dev)\n",
    "def simple_circuit(x):\n",
    "    qml.RX(x[0], wires=0)\n",
    "    qml.RY(x[0], wires=1)\n",
    "    qml.CNOT(wires=[1, 0])\n",
    "    return qml.expval(qml.PauliZ(0))"
   ]
  },
  {
   "cell_type": "code",
   "execution_count": 99,
   "metadata": {},
   "outputs": [],
   "source": [
    "coeffs = coefficients(simple_circuit, 1, 2)"
   ]
  },
  {
   "cell_type": "code",
   "execution_count": 291,
   "metadata": {},
   "outputs": [],
   "source": [
    "dev = qml.device(\"default.qubit\", wires = 1)\n",
    "\n",
    "@qml.qnode(dev)\n",
    "def simple_circuit(params, data):\n",
    "    qml.RX(params[0], wires=0)\n",
    "    qml.RY(data[0], wires = 0, id = \"x\")\n",
    "    qml.RX(params[1], wires = 0)\n",
    "    qml.RY(data[1], wires = 0, id = \"x\")\n",
    "    qml.RX(params[2], wires = 0)\n",
    "    return qml.expval(qml.PauliZ(0))"
   ]
  },
  {
   "cell_type": "code",
   "execution_count": 294,
   "metadata": {},
   "outputs": [],
   "source": [
    "data = [0,1]\n",
    "params = [0.5,0.3,0.8]"
   ]
  },
  {
   "cell_type": "code",
   "execution_count": 295,
   "metadata": {},
   "outputs": [],
   "source": [
    "simple_freqs = circuit_spectrum(simple_circuit)(params, data)"
   ]
  },
  {
   "cell_type": "code",
   "execution_count": 296,
   "metadata": {},
   "outputs": [
    {
     "name": "stdout",
     "output_type": "stream",
     "text": [
      "x : [-2.0, -1.0, 0, 1.0, 2.0]\n"
     ]
    }
   ],
   "source": [
    "for k,v in simple_freqs.items():\n",
    "    print(k, \":\", v)"
   ]
  },
  {
   "cell_type": "code",
   "execution_count": 297,
   "metadata": {},
   "outputs": [],
   "source": [
    "from functools import partial"
   ]
  },
  {
   "cell_type": "code",
   "execution_count": 301,
   "metadata": {},
   "outputs": [],
   "source": [
    "partial_circuit = partial(simple_circuit, params)\n",
    "coeffs = coefficients(partial_circuit,2,1,lowpass_filter=True)"
   ]
  },
  {
   "cell_type": "code",
   "execution_count": 302,
   "metadata": {},
   "outputs": [
    {
     "data": {
      "text/plain": [
       "array([[-0.32855821+0.j, -0.04935468+0.j, -0.04935468+0.j],\n",
       "       [-0.09302078+0.j,  0.29888181+0.j, -0.00682701+0.j],\n",
       "       [-0.09302078+0.j, -0.00682701+0.j,  0.29888181+0.j]])"
      ]
     },
     "execution_count": 302,
     "metadata": {},
     "output_type": "execute_result"
    }
   ],
   "source": [
    "coeffs"
   ]
  },
  {
   "cell_type": "code",
   "execution_count": 287,
   "metadata": {},
   "outputs": [],
   "source": [
    "def fourier_coefficients(f, K):\n",
    "    \"\"\"\n",
    "    Computes the first 2*K+1 Fourier coefficients of a 2*pi periodic function.\n",
    "    \"\"\"\n",
    "    n_coeffs = 2 * K + 1\n",
    "    t = np.linspace(0, 2 * np.pi, n_coeffs, endpoint=False)\n",
    "    y = np.fft.rfft(f(t)) / t.size\n",
    "    return y"
   ]
  },
  {
   "cell_type": "code",
   "execution_count": 288,
   "metadata": {},
   "outputs": [],
   "source": [
    "def f(x):\n",
    "    return np.array([simple_circuit(params,x_) for x_ in x])"
   ]
  },
  {
   "cell_type": "code",
   "execution_count": 289,
   "metadata": {},
   "outputs": [],
   "source": [
    "coeffs = fourier_coefficients(f, 1)"
   ]
  },
  {
   "cell_type": "code",
   "execution_count": 290,
   "metadata": {},
   "outputs": [
    {
     "data": {
      "text/plain": [
       "array([-0.14167993+0.00000000e+00j,  0.41919332-1.28197512e-16j])"
      ]
     },
     "execution_count": 290,
     "metadata": {},
     "output_type": "execute_result"
    }
   ],
   "source": [
    "coeffs"
   ]
  },
  {
   "cell_type": "code",
   "execution_count": 1,
   "metadata": {},
   "outputs": [],
   "source": [
    "import pennylane as qml\n",
    "import numpy as np"
   ]
  },
  {
   "cell_type": "code",
   "execution_count": 168,
   "metadata": {},
   "outputs": [],
   "source": [
    "params = [np.random.uniform(0, np.pi) for i in range(6)]"
   ]
  },
  {
   "cell_type": "code",
   "execution_count": 181,
   "metadata": {},
   "outputs": [],
   "source": [
    "dev = qml.device(\"default.qubit\", wires = 2)\n",
    "\n",
    "@qml.qnode(dev)\n",
    "def circuit(params):\n",
    "    qml.RY(params[0], wires = 0)\n",
    "    qml.RY(params[1], wires = 1)\n",
    "    qml.RX(params[2], wires = 0)\n",
    "    qml.RX(params[3], wires = 1)\n",
    "    qml.RZ(params[4], wires = 0)\n",
    "    qml.RZ(params[5], wires = 1)\n",
    "    qml.CNOT(wires = [0,1])\n",
    "    return qml.expval(qml.PauliZ(0)), qml.expval(qml.PauliZ(1))"
   ]
  },
  {
   "cell_type": "code",
   "execution_count": 182,
   "metadata": {},
   "outputs": [
    {
     "data": {
      "text/plain": [
       "tensor(0.00106099, requires_grad=True)"
      ]
     },
     "execution_count": 182,
     "metadata": {},
     "output_type": "execute_result"
    }
   ],
   "source": [
    "results = circuit(params)\n",
    "results = results[0] * results[1]\n",
    "results"
   ]
  },
  {
   "cell_type": "code",
   "execution_count": 183,
   "metadata": {},
   "outputs": [],
   "source": [
    "@qml.qnode(dev)\n",
    "def circuit(params):\n",
    "    qml.RY(params[0], wires = 0)\n",
    "    qml.RY(params[1], wires = 1)\n",
    "    qml.RX(params[2], wires = 0)\n",
    "    qml.RX(params[3], wires = 1)\n",
    "    qml.RZ(params[4], wires = 0)\n",
    "    qml.RZ(params[5], wires = 1)\n",
    "    #qml.CNOT(wires = [0,1])\n",
    "    return qml.expval(qml.PauliZ(0) @ qml.PauliZ(1))"
   ]
  },
  {
   "cell_type": "code",
   "execution_count": 184,
   "metadata": {},
   "outputs": [
    {
     "data": {
      "text/plain": [
       "tensor(-0.03021677, requires_grad=True)"
      ]
     },
     "execution_count": 184,
     "metadata": {},
     "output_type": "execute_result"
    }
   ],
   "source": [
    "result = circuit(params)\n",
    "result"
   ]
  },
  {
   "cell_type": "code",
   "execution_count": null,
   "metadata": {},
   "outputs": [],
   "source": []
  }
 ],
 "metadata": {
  "kernelspec": {
   "display_name": "tf",
   "language": "python",
   "name": "python3"
  },
  "language_info": {
   "codemirror_mode": {
    "name": "ipython",
    "version": 3
   },
   "file_extension": ".py",
   "mimetype": "text/x-python",
   "name": "python",
   "nbconvert_exporter": "python",
   "pygments_lexer": "ipython3",
   "version": "3.9.15"
  },
  "orig_nbformat": 4
 },
 "nbformat": 4,
 "nbformat_minor": 2
}
