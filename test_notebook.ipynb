{
 "cells": [
  {
   "cell_type": "code",
   "execution_count": 1,
   "metadata": {},
   "outputs": [],
   "source": [
    "import re"
   ]
  },
  {
   "cell_type": "code",
   "execution_count": 1,
   "metadata": {},
   "outputs": [],
   "source": [
    "import sys\n",
    "import os"
   ]
  },
  {
   "cell_type": "code",
   "execution_count": 2,
   "metadata": {},
   "outputs": [],
   "source": [
    "script_path = \"configs/continuous/skolik_arch/schuld_datareup/localskolik_outscaling/ZZ_obs/skolik_optimal_hyper.py\""
   ]
  },
  {
   "cell_type": "code",
   "execution_count": 3,
   "metadata": {},
   "outputs": [],
   "source": [
    "script_path = script_path[:-3]"
   ]
  },
  {
   "cell_type": "code",
   "execution_count": 4,
   "metadata": {},
   "outputs": [
    {
     "data": {
      "text/plain": [
       "'configs/continuous/skolik_arch/schuld_datareup/localskolik_outscaling/ZZ_obs/skolik_optimal_hyper'"
      ]
     },
     "execution_count": 4,
     "metadata": {},
     "output_type": "execute_result"
    }
   ],
   "source": [
    "script_path"
   ]
  },
  {
   "cell_type": "code",
   "execution_count": 5,
   "metadata": {},
   "outputs": [],
   "source": [
    "new_path = script_path.replace(\"configs\", \"../results\")"
   ]
  },
  {
   "cell_type": "code",
   "execution_count": 6,
   "metadata": {},
   "outputs": [
    {
     "data": {
      "text/plain": [
       "'../results/continuous/skolik_arch/schuld_datareup/localskolik_outscaling/ZZ_obs/skolik_optimal_hyper'"
      ]
     },
     "execution_count": 6,
     "metadata": {},
     "output_type": "execute_result"
    }
   ],
   "source": [
    "new_path"
   ]
  },
  {
   "cell_type": "code",
   "execution_count": 7,
   "metadata": {},
   "outputs": [],
   "source": [
    "with open(new_path + \"/test_file.txt\", 'w') as f:\n",
    "    f.write(\"test\")"
   ]
  },
  {
   "cell_type": "code",
   "execution_count": 7,
   "metadata": {},
   "outputs": [
    {
     "ename": "NameError",
     "evalue": "name 'os' is not defined",
     "output_type": "error",
     "traceback": [
      "\u001b[0;31m---------------------------------------------------------------------------\u001b[0m",
      "\u001b[0;31mNameError\u001b[0m                                 Traceback (most recent call last)",
      "Cell \u001b[0;32mIn[7], line 1\u001b[0m\n\u001b[0;32m----> 1\u001b[0m new_path \u001b[39m=\u001b[39m os\u001b[39m.\u001b[39mpath\u001b[39m.\u001b[39mdirname(new_path)\n",
      "\u001b[0;31mNameError\u001b[0m: name 'os' is not defined"
     ]
    }
   ],
   "source": [
    "new_path = os.path.dirname(new_path)"
   ]
  },
  {
   "cell_type": "code",
   "execution_count": 8,
   "metadata": {},
   "outputs": [],
   "source": [
    "import_name = new_path + \"/\""
   ]
  },
  {
   "cell_type": "code",
   "execution_count": 9,
   "metadata": {},
   "outputs": [
    {
     "ename": "ModuleNotFoundError",
     "evalue": "No module named 'results/continuous/skolik_arch/schuld_datareup/localskolik_outscaling/ZZ_obs/skolik_optimal_hyper'",
     "output_type": "error",
     "traceback": [
      "\u001b[0;31m---------------------------------------------------------------------------\u001b[0m",
      "\u001b[0;31mModuleNotFoundError\u001b[0m                       Traceback (most recent call last)",
      "Cell \u001b[0;32mIn[9], line 1\u001b[0m\n\u001b[0;32m----> 1\u001b[0m script \u001b[39m=\u001b[39m \u001b[39m__import__\u001b[39;49m(import_name)\n",
      "\u001b[0;31mModuleNotFoundError\u001b[0m: No module named 'results/continuous/skolik_arch/schuld_datareup/localskolik_outscaling/ZZ_obs/skolik_optimal_hyper'"
     ]
    }
   ],
   "source": [
    "script = __import__(import_name)"
   ]
  },
  {
   "cell_type": "code",
   "execution_count": 1,
   "metadata": {},
   "outputs": [],
   "source": [
    "import tensorflow as tf"
   ]
  },
  {
   "cell_type": "code",
   "execution_count": 190,
   "metadata": {},
   "outputs": [],
   "source": [
    "import pennylane as qml\n",
    "import numpy as np"
   ]
  },
  {
   "cell_type": "code",
   "execution_count": 236,
   "metadata": {},
   "outputs": [],
   "source": [
    "def variational_layer(wires, params):\n",
    "    [[qml.RY(params[2*i], wires[i]),\n",
    "     qml.RZ(params[(i*2)+1], wires[i])] for i in range(len(wires))]"
   ]
  },
  {
   "cell_type": "code",
   "execution_count": 237,
   "metadata": {},
   "outputs": [
    {
     "name": "stdout",
     "output_type": "stream",
     "text": [
      "0: ──RY(1.00)──RZ(2.00)─┤ ╭<Z@Z>\n",
      "1: ──RY(3.00)──RZ(4.00)─┤ ╰<Z@Z>\n",
      "2: ──RY(5.00)──RZ(6.00)─┤       \n",
      "3: ──RY(7.00)──RZ(8.00)─┤       \n"
     ]
    }
   ],
   "source": [
    "dev = qml.device(\"default.qubit\", wires = 4)\n",
    "params = [1,2,3,4,5,6,7,8]\n",
    "@qml.qnode(dev)\n",
    "def circuit(params):\n",
    "    variational_layer(range(4), params)\n",
    "    return qml.expval(qml.PauliZ(0) @ qml.PauliZ(1))\n",
    "\n",
    "print(qml.draw(circuit)(params))"
   ]
  },
  {
   "cell_type": "code",
   "execution_count": 192,
   "metadata": {},
   "outputs": [],
   "source": [
    "def entangling_layer(wires):\n",
    "    qml.CZ(wires = [0,1])\n",
    "    qml.CZ(wires = [1,2])\n",
    "    qml.CZ(wires = [2,3])\n",
    "    qml.CZ(wires = [3,0])"
   ]
  },
  {
   "cell_type": "code",
   "execution_count": 193,
   "metadata": {},
   "outputs": [],
   "source": [
    "def data_encoding(wires, data):\n",
    "    [qml.RX(data, wires[i], id = f\"x_{i}\") for i in range(len(wires))]"
   ]
  },
  {
   "cell_type": "code",
   "execution_count": 194,
   "metadata": {},
   "outputs": [],
   "source": [
    "dev = qml.device(\"default.qubit\", wires = 4)\n",
    "\n",
    "num_layers = 2\n",
    "\n",
    "@qml.qnode(dev)\n",
    "def schuld_datareup(params, data):\n",
    "    for l in range(num_layers):\n",
    "        variational_layer(range(4), params[l])\n",
    "        entangling_layer(range(4))\n",
    "        data_encoding(range(4), data)\n",
    "    variational_layer(range(4), params[num_layers])\n",
    "    return qml.expval(qml.PauliZ(0) @ qml.PauliZ(1))"
   ]
  },
  {
   "cell_type": "code",
   "execution_count": 195,
   "metadata": {},
   "outputs": [],
   "source": [
    "@qml.qnode(dev)\n",
    "def basic_datareup(params, data):\n",
    "    for l in range(num_layers-1):\n",
    "        data_encoding(range(4), data)\n",
    "        variational_layer(range(4), params[l])\n",
    "        entangling_layer(range(4))\n",
    "    data_encoding(range(4), data)\n",
    "    variational_layer(range(4), params[num_layers-1])\n",
    "    return qml.expval(qml.PauliZ(0) @ qml.PauliZ(1))"
   ]
  },
  {
   "cell_type": "code",
   "execution_count": 196,
   "metadata": {},
   "outputs": [],
   "source": [
    "data = np.random.uniform(-0.05,0.05)\n",
    "params_schuld =[[np.random.uniform(0, np.pi) for i in range(8)] for j in range(num_layers + 1)]\n",
    "params_basic = params_schuld[:-1]"
   ]
  },
  {
   "cell_type": "code",
   "execution_count": 197,
   "metadata": {},
   "outputs": [
    {
     "name": "stdout",
     "output_type": "stream",
     "text": [
      "0: ──RY(2.19)──RZ(0.11)─╭●───────╭Z──RX(0.04)──RY(0.41)──RZ(3.07)─╭●───────╭Z──RX(0.04)──RY(2.54)\n",
      "1: ──RY(2.07)──RZ(1.71)─╰Z─╭●────│───RX(0.04)──RY(2.45)──RZ(0.75)─╰Z─╭●────│───RX(0.04)──RY(1.67)\n",
      "2: ──RY(2.78)──RZ(0.89)────╰Z─╭●─│───RX(0.04)──RY(0.48)──RZ(1.05)────╰Z─╭●─│───RX(0.04)──RY(0.33)\n",
      "3: ──RY(0.93)──RZ(0.32)───────╰Z─╰●──RX(0.04)──RY(1.37)──RZ(0.16)───────╰Z─╰●──RX(0.04)──RY(0.41)\n",
      "\n",
      "───RZ(0.56)─┤ ╭<Z@Z>\n",
      "───RZ(2.01)─┤ ╰<Z@Z>\n",
      "───RZ(1.89)─┤       \n",
      "───RZ(0.53)─┤       \n"
     ]
    }
   ],
   "source": [
    "print(qml.draw(schuld_datareup)(params_schuld, data))"
   ]
  },
  {
   "cell_type": "code",
   "execution_count": 198,
   "metadata": {},
   "outputs": [
    {
     "name": "stdout",
     "output_type": "stream",
     "text": [
      "0: ──RX(0.04)──RY(2.19)──RZ(0.11)─╭●───────╭Z──RX(0.04)──RY(0.41)──RZ(3.07)─┤ ╭<Z@Z>\n",
      "1: ──RX(0.04)──RY(2.07)──RZ(1.71)─╰Z─╭●────│───RX(0.04)──RY(2.45)──RZ(0.75)─┤ ╰<Z@Z>\n",
      "2: ──RX(0.04)──RY(2.78)──RZ(0.89)────╰Z─╭●─│───RX(0.04)──RY(0.48)──RZ(1.05)─┤       \n",
      "3: ──RX(0.04)──RY(0.93)──RZ(0.32)───────╰Z─╰●──RX(0.04)──RY(1.37)──RZ(0.16)─┤       \n"
     ]
    }
   ],
   "source": [
    "print(qml.draw(basic_datareup)(params_basic, data))"
   ]
  },
  {
   "cell_type": "code",
   "execution_count": 199,
   "metadata": {},
   "outputs": [],
   "source": [
    "from pennylane.fourier import coefficients, circuit_spectrum\n",
    "freqs_schuld = circuit_spectrum(schuld_datareup)(params_schuld, data)\n",
    "freqs_basic = circuit_spectrum(basic_datareup)(params_basic, data)"
   ]
  },
  {
   "cell_type": "code",
   "execution_count": 200,
   "metadata": {},
   "outputs": [
    {
     "name": "stdout",
     "output_type": "stream",
     "text": [
      "x_0 : [-2.0, -1.0, 0, 1.0, 2.0]\n",
      "x_1 : [-2.0, -1.0, 0, 1.0, 2.0]\n",
      "x_2 : [-2.0, -1.0, 0, 1.0, 2.0]\n",
      "x_3 : [-2.0, -1.0, 0, 1.0, 2.0]\n",
      "x_0 : [-2.0, -1.0, 0, 1.0, 2.0]\n",
      "x_1 : [-2.0, -1.0, 0, 1.0, 2.0]\n",
      "x_2 : [-2.0, -1.0, 0, 1.0, 2.0]\n",
      "x_3 : [-2.0, -1.0, 0, 1.0, 2.0]\n"
     ]
    }
   ],
   "source": [
    "for k,v in freqs_schuld.items():\n",
    "    print(k, \":\", v)\n",
    "\n",
    "for k,v in freqs_basic.items():\n",
    "    print(k, \":\", v)"
   ]
  },
  {
   "cell_type": "code",
   "execution_count": 204,
   "metadata": {},
   "outputs": [],
   "source": [
    "from functools import partial\n",
    "partial_schuld_circuit = partial(schuld_datareup, params_schuld)\n",
    "partial_basic_circuit = partial(basic_datareup, params_basic)\n",
    "\n",
    "coeffs_schuld = coefficients(partial_schuld_circuit, 1, 2)\n",
    "coeffs_basic = coefficients(partial_basic_circuit, 1, 2)"
   ]
  },
  {
   "cell_type": "code",
   "execution_count": 205,
   "metadata": {},
   "outputs": [
    {
     "data": {
      "text/plain": [
       "array([-0.03367574+0.j        ,  0.10102612+0.00853097j,\n",
       "        0.03985307+0.0265832j ,  0.03985307-0.0265832j ,\n",
       "        0.10102612-0.00853097j])"
      ]
     },
     "execution_count": 205,
     "metadata": {},
     "output_type": "execute_result"
    }
   ],
   "source": [
    "coeffs_schuld"
   ]
  },
  {
   "cell_type": "code",
   "execution_count": 206,
   "metadata": {},
   "outputs": [
    {
     "data": {
      "text/plain": [
       "array([-0.00970938+0.j        , -0.01529039+0.00103236j,\n",
       "       -0.04175327-0.05338724j, -0.04175327+0.05338724j,\n",
       "       -0.01529039-0.00103236j])"
      ]
     },
     "execution_count": 206,
     "metadata": {},
     "output_type": "execute_result"
    }
   ],
   "source": [
    "coeffs_basic"
   ]
  },
  {
   "cell_type": "code",
   "execution_count": 207,
   "metadata": {},
   "outputs": [],
   "source": [
    "from pennylane.fourier.visualize import *\n",
    "import matplotlib.pyplot as plt"
   ]
  },
  {
   "cell_type": "code",
   "execution_count": 208,
   "metadata": {},
   "outputs": [
    {
     "data": {
      "text/plain": [
       "array([<AxesSubplot: ylabel='real'>, <AxesSubplot: ylabel='imag'>],\n",
       "      dtype=object)"
      ]
     },
     "execution_count": 208,
     "metadata": {},
     "output_type": "execute_result"
    },
    {
     "data": {
      "image/png": "[encoded data removed]",
      "text/plain": [
       "<Figure size 640x480 with 2 Axes>"
      ]
     },
     "metadata": {},
     "output_type": "display_data"
    }
   ],
   "source": [
    "fig, ax = plt.subplots(2, 1, sharex=True, sharey=True) # Set up the axes\n",
    "bar(coeffs_schuld, 1, ax)"
   ]
  },
  {
   "cell_type": "code",
   "execution_count": 209,
   "metadata": {},
   "outputs": [
    {
     "data": {
      "text/plain": [
       "array([<AxesSubplot: ylabel='real'>, <AxesSubplot: ylabel='imag'>],\n",
       "      dtype=object)"
      ]
     },
     "execution_count": 209,
     "metadata": {},
     "output_type": "execute_result"
    },
    {
     "data": {
      "image/png": "[encoded data removed]",
      "text/plain": [
       "<Figure size 640x480 with 2 Axes>"
      ]
     },
     "metadata": {},
     "output_type": "display_data"
    }
   ],
   "source": [
    "fig, ax = plt.subplots(2, 1, sharex=True, sharey=True) # Set up the axes\n",
    "bar(coeffs_basic, 1, ax)"
   ]
  },
  {
   "cell_type": "code",
   "execution_count": 98,
   "metadata": {},
   "outputs": [],
   "source": [
    "@qml.qnode(dev)\n",
    "def simple_circuit(x):\n",
    "    qml.RX(x[0], wires=0)\n",
    "    qml.RY(x[0], wires=1)\n",
    "    qml.CNOT(wires=[1, 0])\n",
    "    return qml.expval(qml.PauliZ(0))"
   ]
  },
  {
   "cell_type": "code",
   "execution_count": 99,
   "metadata": {},
   "outputs": [],
   "source": [
    "coeffs = coefficients(simple_circuit, 1, 2)"
   ]
  },
  {
   "cell_type": "code",
   "execution_count": 291,
   "metadata": {},
   "outputs": [],
   "source": [
    "dev = qml.device(\"default.qubit\", wires = 1)\n",
    "\n",
    "@qml.qnode(dev)\n",
    "def simple_circuit(params, data):\n",
    "    qml.RX(params[0], wires=0)\n",
    "    qml.RY(data[0], wires = 0, id = \"x\")\n",
    "    qml.RX(params[1], wires = 0)\n",
    "    qml.RY(data[1], wires = 0, id = \"x\")\n",
    "    qml.RX(params[2], wires = 0)\n",
    "    return qml.expval(qml.PauliZ(0))"
   ]
  },
  {
   "cell_type": "code",
   "execution_count": 294,
   "metadata": {},
   "outputs": [],
   "source": [
    "data = [0,1]\n",
    "params = [0.5,0.3,0.8]"
   ]
  },
  {
   "cell_type": "code",
   "execution_count": 295,
   "metadata": {},
   "outputs": [],
   "source": [
    "simple_freqs = circuit_spectrum(simple_circuit)(params, data)"
   ]
  },
  {
   "cell_type": "code",
   "execution_count": 296,
   "metadata": {},
   "outputs": [
    {
     "name": "stdout",
     "output_type": "stream",
     "text": [
      "x : [-2.0, -1.0, 0, 1.0, 2.0]\n"
     ]
    }
   ],
   "source": [
    "for k,v in simple_freqs.items():\n",
    "    print(k, \":\", v)"
   ]
  },
  {
   "cell_type": "code",
   "execution_count": 297,
   "metadata": {},
   "outputs": [],
   "source": [
    "from functools import partial"
   ]
  },
  {
   "cell_type": "code",
   "execution_count": 301,
   "metadata": {},
   "outputs": [],
   "source": [
    "partial_circuit = partial(simple_circuit, params)\n",
    "coeffs = coefficients(partial_circuit,2,1,lowpass_filter=True)"
   ]
  },
  {
   "cell_type": "code",
   "execution_count": 302,
   "metadata": {},
   "outputs": [
    {
     "data": {
      "text/plain": [
       "array([[-0.32855821+0.j, -0.04935468+0.j, -0.04935468+0.j],\n",
       "       [-0.09302078+0.j,  0.29888181+0.j, -0.00682701+0.j],\n",
       "       [-0.09302078+0.j, -0.00682701+0.j,  0.29888181+0.j]])"
      ]
     },
     "execution_count": 302,
     "metadata": {},
     "output_type": "execute_result"
    }
   ],
   "source": [
    "coeffs"
   ]
  },
  {
   "cell_type": "code",
   "execution_count": 287,
   "metadata": {},
   "outputs": [],
   "source": [
    "def fourier_coefficients(f, K):\n",
    "    \"\"\"\n",
    "    Computes the first 2*K+1 Fourier coefficients of a 2*pi periodic function.\n",
    "    \"\"\"\n",
    "    n_coeffs = 2 * K + 1\n",
    "    t = np.linspace(0, 2 * np.pi, n_coeffs, endpoint=False)\n",
    "    y = np.fft.rfft(f(t)) / t.size\n",
    "    return y"
   ]
  },
  {
   "cell_type": "code",
   "execution_count": 288,
   "metadata": {},
   "outputs": [],
   "source": [
    "def f(x):\n",
    "    return np.array([simple_circuit(params,x_) for x_ in x])"
   ]
  },
  {
   "cell_type": "code",
   "execution_count": 289,
   "metadata": {},
   "outputs": [],
   "source": [
    "coeffs = fourier_coefficients(f, 1)"
   ]
  },
  {
   "cell_type": "code",
   "execution_count": 290,
   "metadata": {},
   "outputs": [
    {
     "data": {
      "text/plain": [
       "array([-0.14167993+0.00000000e+00j,  0.41919332-1.28197512e-16j])"
      ]
     },
     "execution_count": 290,
     "metadata": {},
     "output_type": "execute_result"
    }
   ],
   "source": [
    "coeffs"
   ]
  },
  {
   "cell_type": "code",
   "execution_count": 1,
   "metadata": {},
   "outputs": [],
   "source": [
    "import pennylane as qml\n",
    "import numpy as np"
   ]
  },
  {
   "cell_type": "code",
   "execution_count": 168,
   "metadata": {},
   "outputs": [],
   "source": [
    "params = [np.random.uniform(0, np.pi) for i in range(6)]"
   ]
  },
  {
   "cell_type": "code",
   "execution_count": 181,
   "metadata": {},
   "outputs": [],
   "source": [
    "dev = qml.device(\"default.qubit\", wires = 2)\n",
    "\n",
    "@qml.qnode(dev)\n",
    "def circuit(params):\n",
    "    qml.RY(params[0], wires = 0)\n",
    "    qml.RY(params[1], wires = 1)\n",
    "    qml.RX(params[2], wires = 0)\n",
    "    qml.RX(params[3], wires = 1)\n",
    "    qml.RZ(params[4], wires = 0)\n",
    "    qml.RZ(params[5], wires = 1)\n",
    "    qml.CNOT(wires = [0,1])\n",
    "    return qml.expval(qml.PauliZ(0)), qml.expval(qml.PauliZ(1))"
   ]
  },
  {
   "cell_type": "code",
   "execution_count": 182,
   "metadata": {},
   "outputs": [
    {
     "data": {
      "text/plain": [
       "tensor(0.00106099, requires_grad=True)"
      ]
     },
     "execution_count": 182,
     "metadata": {},
     "output_type": "execute_result"
    }
   ],
   "source": [
    "results = circuit(params)\n",
    "results = results[0] * results[1]\n",
    "results"
   ]
  },
  {
   "cell_type": "code",
   "execution_count": 183,
   "metadata": {},
   "outputs": [],
   "source": [
    "@qml.qnode(dev)\n",
    "def circuit(params):\n",
    "    qml.RY(params[0], wires = 0)\n",
    "    qml.RY(params[1], wires = 1)\n",
    "    qml.RX(params[2], wires = 0)\n",
    "    qml.RX(params[3], wires = 1)\n",
    "    qml.RZ(params[4], wires = 0)\n",
    "    qml.RZ(params[5], wires = 1)\n",
    "    #qml.CNOT(wires = [0,1])\n",
    "    return qml.expval(qml.PauliZ(0) @ qml.PauliZ(1))"
   ]
  },
  {
   "cell_type": "code",
   "execution_count": 184,
   "metadata": {},
   "outputs": [
    {
     "data": {
      "text/plain": [
       "tensor(-0.03021677, requires_grad=True)"
      ]
     },
     "execution_count": 184,
     "metadata": {},
     "output_type": "execute_result"
    }
   ],
   "source": [
    "result = circuit(params)\n",
    "result"
   ]
  },
  {
   "cell_type": "code",
   "execution_count": 210,
   "metadata": {},
   "outputs": [],
   "source": [
    "from fourier_analysis.pennylane_operations import *"
   ]
  },
  {
   "cell_type": "code",
   "execution_count": 211,
   "metadata": {},
   "outputs": [],
   "source": [
    "operations = QMLOperations()"
   ]
  },
  {
   "cell_type": "code",
   "execution_count": 218,
   "metadata": {},
   "outputs": [],
   "source": [
    "dev = qml.device(\"default.qubit\", wires = 4)\n",
    "\n",
    "@qml.qnode(dev)\n",
    "def circuit():\n",
    "    operations.skolik_entangling_layer(range(4))\n",
    "    return qml.expval(qml.PauliZ(0) @ qml.PauliZ(1))"
   ]
  },
  {
   "cell_type": "code",
   "execution_count": 220,
   "metadata": {},
   "outputs": [
    {
     "name": "stdout",
     "output_type": "stream",
     "text": [
      "0: ─╭●───────╭●─┤ ╭<Z@Z>\n",
      "1: ─╰Z─╭●────│──┤ ╰<Z@Z>\n",
      "2: ────╰Z─╭●─│──┤       \n",
      "3: ───────╰Z─╰Z─┤       \n"
     ]
    }
   ],
   "source": [
    "print(qml.draw(circuit)())"
   ]
  },
  {
   "cell_type": "code",
   "execution_count": 221,
   "metadata": {},
   "outputs": [],
   "source": [
    "def operations():\n",
    "    qml.Hadamard(wires = 0)"
   ]
  },
  {
   "cell_type": "code",
   "execution_count": 241,
   "metadata": {},
   "outputs": [],
   "source": [
    "def circuit():\n",
    "    operations()\n",
    "    return qml.sample(qml.PauliZ(0))"
   ]
  },
  {
   "cell_type": "code",
   "execution_count": 244,
   "metadata": {},
   "outputs": [],
   "source": [
    "dev = qml.device(\"default.qubit\", wires = 1, shots = 5)\n",
    "qnode = qml.QNode(circuit, dev)\n"
   ]
  },
  {
   "cell_type": "code",
   "execution_count": 245,
   "metadata": {},
   "outputs": [
    {
     "data": {
      "text/plain": [
       "tensor([ 1,  1,  1, -1,  1], requires_grad=True)"
      ]
     },
     "execution_count": 245,
     "metadata": {},
     "output_type": "execute_result"
    }
   ],
   "source": [
    "qnode()"
   ]
  },
  {
   "cell_type": "code",
   "execution_count": null,
   "metadata": {},
   "outputs": [],
   "source": []
  }
 ],
 "metadata": {
  "kernelspec": {
   "display_name": "tf",
   "language": "python",
   "name": "python3"
  },
  "language_info": {
   "codemirror_mode": {
    "name": "ipython",
    "version": 3
   },
   "file_extension": ".py",
   "mimetype": "text/x-python",
   "name": "python",
   "nbconvert_exporter": "python",
   "pygments_lexer": "ipython3",
   "version": "3.9.15"
  },
  "orig_nbformat": 4
 },
 "nbformat": 4,
 "nbformat_minor": 2
}
